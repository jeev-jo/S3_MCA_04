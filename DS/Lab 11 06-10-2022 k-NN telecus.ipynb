{
 "cells": [
  {
   "cell_type": "markdown",
   "id": "20261a0b",
   "metadata": {},
   "source": [
    "# Tele Customer Churn"
   ]
  },
  {
   "cell_type": "code",
   "execution_count": 1,
   "id": "39a18283",
   "metadata": {},
   "outputs": [
    {
     "name": "stdout",
     "output_type": "stream",
     "text": [
      "Defaulting to user installation because normal site-packages is not writeable\n",
      "Requirement already satisfied: scikit-learn in /opt/anaconda3/lib/python3.9/site-packages (1.0.2)\n",
      "Requirement already satisfied: numpy>=1.14.6 in /opt/anaconda3/lib/python3.9/site-packages (from scikit-learn) (1.21.5)\n",
      "Requirement already satisfied: scipy>=1.1.0 in /opt/anaconda3/lib/python3.9/site-packages (from scikit-learn) (1.7.3)\n",
      "Requirement already satisfied: joblib>=0.11 in /opt/anaconda3/lib/python3.9/site-packages (from scikit-learn) (1.1.0)\n",
      "Requirement already satisfied: threadpoolctl>=2.0.0 in /opt/anaconda3/lib/python3.9/site-packages (from scikit-learn) (2.2.0)\n"
     ]
    }
   ],
   "source": [
    "import numpy as np\n",
    "import pandas as pd\n",
    "!pip install scikit-learn"
   ]
  },
  {
   "cell_type": "code",
   "execution_count": 2,
   "id": "af8f3bb7",
   "metadata": {
    "scrolled": false
   },
   "outputs": [
    {
     "name": "stdout",
     "output_type": "stream",
     "text": [
      "      customerID  gender  SeniorCitizen Partner Dependents  tenure  \\\n",
      "0     7590-VHVEG  Female              0     Yes         No       1   \n",
      "1     5575-GNVDE    Male              0      No         No      34   \n",
      "2     3668-QPYBK    Male              0      No         No       2   \n",
      "3     7795-CFOCW    Male              0      No         No      45   \n",
      "4     9237-HQITU  Female              0      No         No       2   \n",
      "...          ...     ...            ...     ...        ...     ...   \n",
      "7038  6840-RESVB    Male              0     Yes        Yes      24   \n",
      "7039  2234-XADUH  Female              0     Yes        Yes      72   \n",
      "7040  4801-JZAZL  Female              0     Yes        Yes      11   \n",
      "7041  8361-LTMKD    Male              1     Yes         No       4   \n",
      "7042  3186-AJIEK    Male              0      No         No      66   \n",
      "\n",
      "     PhoneService     MultipleLines InternetService OnlineSecurity  ...  \\\n",
      "0              No  No phone service             DSL             No  ...   \n",
      "1             Yes                No             DSL            Yes  ...   \n",
      "2             Yes                No             DSL            Yes  ...   \n",
      "3              No  No phone service             DSL            Yes  ...   \n",
      "4             Yes                No     Fiber optic             No  ...   \n",
      "...           ...               ...             ...            ...  ...   \n",
      "7038          Yes               Yes             DSL            Yes  ...   \n",
      "7039          Yes               Yes     Fiber optic             No  ...   \n",
      "7040           No  No phone service             DSL            Yes  ...   \n",
      "7041          Yes               Yes     Fiber optic             No  ...   \n",
      "7042          Yes                No     Fiber optic            Yes  ...   \n",
      "\n",
      "     DeviceProtection TechSupport StreamingTV StreamingMovies        Contract  \\\n",
      "0                  No          No          No              No  Month-to-month   \n",
      "1                 Yes          No          No              No        One year   \n",
      "2                  No          No          No              No  Month-to-month   \n",
      "3                 Yes         Yes          No              No        One year   \n",
      "4                  No          No          No              No  Month-to-month   \n",
      "...               ...         ...         ...             ...             ...   \n",
      "7038              Yes         Yes         Yes             Yes        One year   \n",
      "7039              Yes          No         Yes             Yes        One year   \n",
      "7040               No          No          No              No  Month-to-month   \n",
      "7041               No          No          No              No  Month-to-month   \n",
      "7042              Yes         Yes         Yes             Yes        Two year   \n",
      "\n",
      "     PaperlessBilling              PaymentMethod MonthlyCharges  TotalCharges  \\\n",
      "0                 Yes           Electronic check          29.85         29.85   \n",
      "1                  No               Mailed check          56.95        1889.5   \n",
      "2                 Yes               Mailed check          53.85        108.15   \n",
      "3                  No  Bank transfer (automatic)          42.30       1840.75   \n",
      "4                 Yes           Electronic check          70.70        151.65   \n",
      "...               ...                        ...            ...           ...   \n",
      "7038              Yes               Mailed check          84.80        1990.5   \n",
      "7039              Yes    Credit card (automatic)         103.20        7362.9   \n",
      "7040              Yes           Electronic check          29.60        346.45   \n",
      "7041              Yes               Mailed check          74.40         306.6   \n",
      "7042              Yes  Bank transfer (automatic)         105.65        6844.5   \n",
      "\n",
      "     Churn  \n",
      "0       No  \n",
      "1       No  \n",
      "2      Yes  \n",
      "3       No  \n",
      "4      Yes  \n",
      "...    ...  \n",
      "7038    No  \n",
      "7039    No  \n",
      "7040    No  \n",
      "7041   Yes  \n",
      "7042    No  \n",
      "\n",
      "[7043 rows x 21 columns]\n"
     ]
    }
   ],
   "source": [
    "ds = pd.read_csv('Telco-Customer-Churn.csv')\n",
    "print(ds)"
   ]
  },
  {
   "cell_type": "code",
   "execution_count": 3,
   "id": "321beb04",
   "metadata": {},
   "outputs": [],
   "source": [
    "ds.drop('customerID', axis = 1,inplace=True)"
   ]
  },
  {
   "cell_type": "code",
   "execution_count": 4,
   "id": "2cadb5e9",
   "metadata": {},
   "outputs": [],
   "source": [
    "from sklearn.preprocessing import LabelEncoder\n",
    "label_encoder_x= LabelEncoder()"
   ]
  },
  {
   "cell_type": "code",
   "execution_count": 5,
   "id": "4c108382",
   "metadata": {
    "scrolled": true
   },
   "outputs": [
    {
     "name": "stdout",
     "output_type": "stream",
     "text": [
      "0        No\n",
      "1        No\n",
      "2       Yes\n",
      "3        No\n",
      "4       Yes\n",
      "       ... \n",
      "7038     No\n",
      "7039     No\n",
      "7040     No\n",
      "7041    Yes\n",
      "7042     No\n",
      "Name: Churn, Length: 7043, dtype: object\n"
     ]
    }
   ],
   "source": [
    "y = ds['Churn']\n",
    "print(y)"
   ]
  },
  {
   "cell_type": "code",
   "execution_count": 6,
   "id": "ae0a82b6",
   "metadata": {},
   "outputs": [
    {
     "name": "stdout",
     "output_type": "stream",
     "text": [
      "<class 'pandas.core.frame.DataFrame'>\n",
      "RangeIndex: 7043 entries, 0 to 7042\n",
      "Data columns (total 20 columns):\n",
      " #   Column            Non-Null Count  Dtype  \n",
      "---  ------            --------------  -----  \n",
      " 0   gender            7043 non-null   object \n",
      " 1   SeniorCitizen     7043 non-null   int64  \n",
      " 2   Partner           7043 non-null   object \n",
      " 3   Dependents        7043 non-null   object \n",
      " 4   tenure            7043 non-null   int64  \n",
      " 5   PhoneService      7043 non-null   object \n",
      " 6   MultipleLines     7043 non-null   object \n",
      " 7   InternetService   7043 non-null   object \n",
      " 8   OnlineSecurity    7043 non-null   object \n",
      " 9   OnlineBackup      7043 non-null   object \n",
      " 10  DeviceProtection  7043 non-null   object \n",
      " 11  TechSupport       7043 non-null   object \n",
      " 12  StreamingTV       7043 non-null   object \n",
      " 13  StreamingMovies   7043 non-null   object \n",
      " 14  Contract          7043 non-null   object \n",
      " 15  PaperlessBilling  7043 non-null   object \n",
      " 16  PaymentMethod     7043 non-null   object \n",
      " 17  MonthlyCharges    7043 non-null   float64\n",
      " 18  TotalCharges      7043 non-null   object \n",
      " 19  Churn             7043 non-null   object \n",
      "dtypes: float64(1), int64(2), object(17)\n",
      "memory usage: 1.1+ MB\n"
     ]
    }
   ],
   "source": [
    "ds.info()"
   ]
  },
  {
   "cell_type": "code",
   "execution_count": 7,
   "id": "52ea3091",
   "metadata": {},
   "outputs": [
    {
     "name": "stdout",
     "output_type": "stream",
     "text": [
      "<class 'pandas.core.frame.DataFrame'>\n",
      "RangeIndex: 7043 entries, 0 to 7042\n",
      "Data columns (total 20 columns):\n",
      " #   Column            Non-Null Count  Dtype  \n",
      "---  ------            --------------  -----  \n",
      " 0   gender            7043 non-null   object \n",
      " 1   SeniorCitizen     7043 non-null   int64  \n",
      " 2   Partner           7043 non-null   object \n",
      " 3   Dependents        7043 non-null   object \n",
      " 4   tenure            7043 non-null   int64  \n",
      " 5   PhoneService      7043 non-null   object \n",
      " 6   MultipleLines     7043 non-null   object \n",
      " 7   InternetService   7043 non-null   object \n",
      " 8   OnlineSecurity    7043 non-null   object \n",
      " 9   OnlineBackup      7043 non-null   object \n",
      " 10  DeviceProtection  7043 non-null   object \n",
      " 11  TechSupport       7043 non-null   object \n",
      " 12  StreamingTV       7043 non-null   object \n",
      " 13  StreamingMovies   7043 non-null   object \n",
      " 14  Contract          7043 non-null   object \n",
      " 15  PaperlessBilling  7043 non-null   object \n",
      " 16  PaymentMethod     7043 non-null   object \n",
      " 17  MonthlyCharges    7043 non-null   float64\n",
      " 18  TotalCharges      7032 non-null   float64\n",
      " 19  Churn             7043 non-null   object \n",
      "dtypes: float64(2), int64(2), object(16)\n",
      "memory usage: 1.1+ MB\n"
     ]
    }
   ],
   "source": [
    "ds['TotalCharges'] = pd.to_numeric(ds['TotalCharges'], errors='coerce')\n",
    "ds.info()"
   ]
  },
  {
   "cell_type": "code",
   "execution_count": 8,
   "id": "1aa3902b",
   "metadata": {},
   "outputs": [
    {
     "name": "stdout",
     "output_type": "stream",
     "text": [
      "[0 0 1 ... 0 1 0]\n"
     ]
    }
   ],
   "source": [
    "y = label_encoder_x.fit_transform(y)\n",
    "print(y)"
   ]
  },
  {
   "cell_type": "code",
   "execution_count": 9,
   "id": "4d54865f",
   "metadata": {},
   "outputs": [
    {
     "name": "stdout",
     "output_type": "stream",
     "text": [
      "[['Female' 0 'Yes' ... 'Electronic check' 29.85 29.85]\n",
      " ['Male' 0 'No' ... 'Mailed check' 56.95 1889.5]\n",
      " ['Male' 0 'No' ... 'Mailed check' 53.85 108.15]\n",
      " ...\n",
      " ['Female' 0 'Yes' ... 'Electronic check' 29.6 346.45]\n",
      " ['Male' 1 'Yes' ... 'Mailed check' 74.4 306.6]\n",
      " ['Male' 0 'No' ... 'Bank transfer (automatic)' 105.65 6844.5]]\n"
     ]
    }
   ],
   "source": [
    "x = ds.iloc[: , :-1].values\n",
    "print(x)"
   ]
  },
  {
   "cell_type": "code",
   "execution_count": 15,
   "id": "18618725",
   "metadata": {},
   "outputs": [
    {
     "name": "stdout",
     "output_type": "stream",
     "text": [
      "      gender  SeniorCitizen  Partner  Dependents  tenure  PhoneService  \\\n",
      "0          0              0        1           0       1             0   \n",
      "1          1              0        0           0      34             1   \n",
      "2          1              0        0           0       2             1   \n",
      "3          1              0        0           0      45             0   \n",
      "4          0              0        0           0       2             1   \n",
      "...      ...            ...      ...         ...     ...           ...   \n",
      "7038       1              0        1           1      24             1   \n",
      "7039       0              0        1           1      72             1   \n",
      "7040       0              0        1           1      11             0   \n",
      "7041       1              1        1           0       4             1   \n",
      "7042       1              0        0           0      66             1   \n",
      "\n",
      "      MultipleLines  InternetService  OnlineSecurity  OnlineBackup  \\\n",
      "0                 1                0               0             2   \n",
      "1                 0                0               2             0   \n",
      "2                 0                0               2             2   \n",
      "3                 1                0               2             0   \n",
      "4                 0                1               0             0   \n",
      "...             ...              ...             ...           ...   \n",
      "7038              2                0               2             0   \n",
      "7039              2                1               0             2   \n",
      "7040              1                0               2             0   \n",
      "7041              2                1               0             0   \n",
      "7042              0                1               2             0   \n",
      "\n",
      "      DeviceProtection  TechSupport  StreamingTV  StreamingMovies  Contract  \\\n",
      "0                    0            0            0                0         0   \n",
      "1                    2            0            0                0         1   \n",
      "2                    0            0            0                0         0   \n",
      "3                    2            2            0                0         1   \n",
      "4                    0            0            0                0         0   \n",
      "...                ...          ...          ...              ...       ...   \n",
      "7038                 2            2            2                2         1   \n",
      "7039                 2            0            2                2         1   \n",
      "7040                 0            0            0                0         0   \n",
      "7041                 0            0            0                0         0   \n",
      "7042                 2            2            2                2         2   \n",
      "\n",
      "      PaperlessBilling  PaymentMethod  MonthlyCharges  TotalCharges  Churn  \n",
      "0                    1              2             142            74      0  \n",
      "1                    0              3             498          3624      0  \n",
      "2                    1              3             436           536      1  \n",
      "3                    0              0             266          3570      0  \n",
      "4                    1              2             729           674      1  \n",
      "...                ...            ...             ...           ...    ...  \n",
      "7038                 1              3             991          3700      0  \n",
      "7039                 1              1            1340          6304      0  \n",
      "7040                 1              2             137          1265      0  \n",
      "7041                 1              3             795          1157      1  \n",
      "7042                 1              0            1388          6150      0  \n",
      "\n",
      "[7043 rows x 20 columns]\n"
     ]
    }
   ],
   "source": [
    "ds.iloc[:, 0]= label_encoder_x.fit_transform(ds.iloc[:, 0])\n",
    "ds.iloc[:, 1]= label_encoder_x.fit_transform(ds.iloc[:, 1])\n",
    "ds.iloc[:, 2]= label_encoder_x.fit_transform(ds.iloc[:, 2])\n",
    "ds.iloc[:, 3]= label_encoder_x.fit_transform(ds.iloc[:, 3])\n",
    "ds.iloc[:, 4]= label_encoder_x.fit_transform(ds.iloc[:, 4])\n",
    "ds.iloc[:, 5]= label_encoder_x.fit_transform(ds.iloc[:, 5])\n",
    "ds.iloc[:, 6]= label_encoder_x.fit_transform(ds.iloc[:, 6])\n",
    "ds.iloc[:, 7]= label_encoder_x.fit_transform(ds.iloc[:, 7])\n",
    "ds.iloc[:, 8]= label_encoder_x.fit_transform(ds.iloc[:, 8])\n",
    "ds.iloc[:, 9]= label_encoder_x.fit_transform(ds.iloc[:, 9])\n",
    "ds.iloc[:, 10]= label_encoder_x.fit_transform(ds.iloc[:,10])\n",
    "ds.iloc[:, 11]= label_encoder_x.fit_transform(ds.iloc[:, 11])\n",
    "ds.iloc[:, 12]= label_encoder_x.fit_transform(ds.iloc[:, 12])\n",
    "ds.iloc[:, 13]= label_encoder_x.fit_transform(ds.iloc[:, 13])\n",
    "ds.iloc[:, 14]= label_encoder_x.fit_transform(ds.iloc[:, 14])\n",
    "ds.iloc[:, 15]= label_encoder_x.fit_transform(ds.iloc[:, 15])\n",
    "ds.iloc[:, 16]= label_encoder_x.fit_transform(ds.iloc[:, 16])\n",
    "ds.iloc[:, 17]= label_encoder_x.fit_transform(ds.iloc[:, 17])\n",
    "ds.iloc[:, 18]= label_encoder_x.fit_transform(ds.iloc[:, 18])\n",
    "ds.iloc[:, 19]= label_encoder_x.fit_transform(ds.iloc[:, 19])\n",
    "print(ds)"
   ]
  },
  {
   "cell_type": "code",
   "execution_count": 17,
   "id": "67e14b44",
   "metadata": {},
   "outputs": [
    {
     "name": "stdout",
     "output_type": "stream",
     "text": [
      "      gender  SeniorCitizen  Partner  Dependents  tenure  PhoneService  \\\n",
      "0          0              0        1           0       1             0   \n",
      "1          1              0        0           0      34             1   \n",
      "2          1              0        0           0       2             1   \n",
      "3          1              0        0           0      45             0   \n",
      "4          0              0        0           0       2             1   \n",
      "...      ...            ...      ...         ...     ...           ...   \n",
      "7038       1              0        1           1      24             1   \n",
      "7039       0              0        1           1      72             1   \n",
      "7040       0              0        1           1      11             0   \n",
      "7041       1              1        1           0       4             1   \n",
      "7042       1              0        0           0      66             1   \n",
      "\n",
      "      PaperlessBilling  MonthlyCharges  TotalCharges  Churn  ...  \\\n",
      "0                    1             142            74      0  ...   \n",
      "1                    0             498          3624      0  ...   \n",
      "2                    1             436           536      1  ...   \n",
      "3                    0             266          3570      0  ...   \n",
      "4                    1             729           674      1  ...   \n",
      "...                ...             ...           ...    ...  ...   \n",
      "7038                 1             991          3700      0  ...   \n",
      "7039                 1            1340          6304      0  ...   \n",
      "7040                 1             137          1265      0  ...   \n",
      "7041                 1             795          1157      1  ...   \n",
      "7042                 1            1388          6150      0  ...   \n",
      "\n",
      "      StreamingMovies_0  StreamingMovies_1  StreamingMovies_2  Contract_0  \\\n",
      "0                     1                  0                  0           1   \n",
      "1                     1                  0                  0           0   \n",
      "2                     1                  0                  0           1   \n",
      "3                     1                  0                  0           0   \n",
      "4                     1                  0                  0           1   \n",
      "...                 ...                ...                ...         ...   \n",
      "7038                  0                  0                  1           0   \n",
      "7039                  0                  0                  1           0   \n",
      "7040                  1                  0                  0           1   \n",
      "7041                  1                  0                  0           1   \n",
      "7042                  0                  0                  1           0   \n",
      "\n",
      "      Contract_1  Contract_2  PaymentMethod_0  PaymentMethod_1  \\\n",
      "0              0           0                0                0   \n",
      "1              1           0                0                0   \n",
      "2              0           0                0                0   \n",
      "3              1           0                1                0   \n",
      "4              0           0                0                0   \n",
      "...          ...         ...              ...              ...   \n",
      "7038           1           0                0                0   \n",
      "7039           1           0                0                1   \n",
      "7040           0           0                0                0   \n",
      "7041           0           0                0                0   \n",
      "7042           0           1                1                0   \n",
      "\n",
      "      PaymentMethod_2  PaymentMethod_3  \n",
      "0                   1                0  \n",
      "1                   0                1  \n",
      "2                   0                1  \n",
      "3                   0                0  \n",
      "4                   1                0  \n",
      "...               ...              ...  \n",
      "7038                0                1  \n",
      "7039                0                0  \n",
      "7040                1                0  \n",
      "7041                0                1  \n",
      "7042                0                0  \n",
      "\n",
      "[7043 rows x 41 columns]\n"
     ]
    }
   ],
   "source": [
    "x = ds\n",
    "one_hot_encoding_columns = ['MultipleLines', 'InternetService', 'OnlineSecurity', 'OnlineBackup', 'DeviceProtection', \n",
    "                            'TechSupport', 'StreamingTV', 'StreamingMovies', 'Contract', 'PaymentMethod']\n",
    "\n",
    "x = pd.get_dummies(x,columns = one_hot_encoding_columns)\n",
    "print(x)"
   ]
  },
  {
   "cell_type": "code",
   "execution_count": 18,
   "id": "9d3ae0a0",
   "metadata": {},
   "outputs": [],
   "source": [
    "from sklearn.model_selection import train_test_split\n",
    "x_train, x_test, y_train, y_test= train_test_split(x, y, test_size= 0.25, random_state=0)"
   ]
  },
  {
   "cell_type": "code",
   "execution_count": 19,
   "id": "35d7b6ed",
   "metadata": {},
   "outputs": [
    {
     "name": "stdout",
     "output_type": "stream",
     "text": [
      "[[0. 0. 0. ... 1. 0. 0.]\n",
      " [1. 1. 0. ... 0. 0. 0.]\n",
      " [1. 0. 0. ... 0. 0. 1.]\n",
      " ...\n",
      " [1. 0. 1. ... 0. 0. 1.]\n",
      " [1. 1. 0. ... 0. 1. 0.]\n",
      " [0. 0. 0. ... 1. 0. 0.]]\n"
     ]
    }
   ],
   "source": [
    "from sklearn.preprocessing import MinMaxScaler\n",
    "st_x= MinMaxScaler()\n",
    "x_train= st_x.fit_transform(x_train)\n",
    "x_test=st_x.fit_transform(x_test)\n",
    "print(x_train)"
   ]
  },
  {
   "cell_type": "code",
   "execution_count": 20,
   "id": "c7961d90",
   "metadata": {},
   "outputs": [
    {
     "data": {
      "text/plain": [
       "KNeighborsClassifier()"
      ]
     },
     "execution_count": 20,
     "metadata": {},
     "output_type": "execute_result"
    }
   ],
   "source": [
    "from sklearn.neighbors import KNeighborsClassifier\n",
    "classifier = KNeighborsClassifier(n_neighbors = 5)\n",
    "classifier.fit(x_train,y_train)"
   ]
  },
  {
   "cell_type": "code",
   "execution_count": 22,
   "id": "c6c3d5c1",
   "metadata": {},
   "outputs": [
    {
     "name": "stdout",
     "output_type": "stream",
     "text": [
      "[0 0 0 ... 0 0 0]\n"
     ]
    }
   ],
   "source": [
    "y_pred= classifier.predict(x_test)\n",
    "print(y_pred)"
   ]
  },
  {
   "cell_type": "code",
   "execution_count": 23,
   "id": "23de12b6",
   "metadata": {},
   "outputs": [
    {
     "name": "stdout",
     "output_type": "stream",
     "text": [
      "[[1262   36]\n",
      " [  91  372]]\n"
     ]
    }
   ],
   "source": [
    "from sklearn.metrics import confusion_matrix\n",
    "cm= confusion_matrix (y_test, y_pred,labels=classifier.classes_)\n",
    "print(cm)"
   ]
  },
  {
   "cell_type": "code",
   "execution_count": 24,
   "id": "1b9d6700",
   "metadata": {},
   "outputs": [
    {
     "data": {
      "text/plain": [
       "<sklearn.metrics._plot.confusion_matrix.ConfusionMatrixDisplay at 0x7f2ce28f9f10>"
      ]
     },
     "execution_count": 24,
     "metadata": {},
     "output_type": "execute_result"
    },
    {
     "data": {
      "image/png": "[encoded data removed]",
      "text/plain": [
       "<Figure size 432x288 with 2 Axes>"
      ]
     },
     "metadata": {
      "needs_background": "light"
     },
     "output_type": "display_data"
    }
   ],
   "source": [
    "from sklearn.metrics import ConfusionMatrixDisplay\n",
    "disp = ConfusionMatrixDisplay(confusion_matrix=cm,\n",
    "display_labels=classifier.classes_)\n",
    "\n",
    "disp.plot()"
   ]
  },
  {
   "cell_type": "code",
   "execution_count": 25,
   "id": "8e9746ff",
   "metadata": {},
   "outputs": [
    {
     "name": "stdout",
     "output_type": "stream",
     "text": [
      "0.9674365770541462\n",
      "0.9278818852924475\n"
     ]
    }
   ],
   "source": [
    "training_score = classifier.score(x_train, y_train)\n",
    "test_score = classifier.score(x_test, y_test)\n",
    "print(training_score)\n",
    "print(test_score)"
   ]
  },
  {
   "cell_type": "code",
   "execution_count": 26,
   "id": "1b199001",
   "metadata": {},
   "outputs": [
    {
     "name": "stdout",
     "output_type": "stream",
     "text": [
      "2 : [0.9500189322226429, 0.8989210675752414]\n",
      "3 : [0.9731162438470277, 0.9182282793867121]\n",
      "4 : [0.9551306323362363, 0.919931856899489]\n",
      "5 : [0.9674365770541462, 0.9278818852924475]\n",
      "6 : [0.9560772434683832, 0.9267461669505963]\n",
      "7 : [0.9661113214691405, 0.9381033503691084]\n",
      "8 : [0.9583491101855358, 0.9290176036342986]\n",
      "9 : [0.9634608102991291, 0.9392390687109596]\n",
      "10 : [0.9566452101476713, 0.9329926178307779]\n",
      "11 : [0.9600530102234002, 0.9381033503691084]\n",
      "12 : [0.95399469897766, 0.9363997728563316]\n",
      "13 : [0.9583491101855358, 0.9392390687109596]\n",
      "14 : [0.955509276789095, 0.9369676320272572]\n",
      "15 : [0.9570238546005301, 0.9432140829074389]\n",
      "16 : [0.9553199545626656, 0.9381033503691084]\n",
      "17 : [0.9568345323741008, 0.9381033503691084]\n",
      "18 : [0.9528587656190837, 0.9363997728563316]\n",
      "19 : [0.9558879212419538, 0.9381033503691084]\n",
      "20 : [0.9530480878455131, 0.9375354911981828]\n",
      "21 : [0.9558879212419538, 0.9415105053946621]\n"
     ]
    }
   ],
   "source": [
    "K = []\n",
    "training = []\n",
    "test = []\n",
    "scores = {}\n",
    "for k in range(2, 22):\n",
    "    clf = KNeighborsClassifier(n_neighbors = k)\n",
    "    clf.fit(x_train, y_train)\n",
    "    training_score = clf.score(x_train, y_train)\n",
    "    test_score = clf.score(x_test, y_test)\n",
    "    K.append(k)\n",
    "    training.append(training_score)\n",
    "    test.append(test_score)\n",
    "    scores[k] = [training_score, test_score]\n",
    "for keys, values in scores.items():\n",
    "    print(keys, ':', values)"
   ]
  },
  {
   "cell_type": "code",
   "execution_count": 27,
   "id": "ae073a91",
   "metadata": {},
   "outputs": [
    {
     "data": {
      "image/png": "[encoded data removed]",
      "text/plain": [
       "<Figure size 432x288 with 1 Axes>"
      ]
     },
     "metadata": {
      "needs_background": "light"
     },
     "output_type": "display_data"
    }
   ],
   "source": [
    "import matplotlib.pyplot as plt\n",
    "plt.scatter(K, training, color ='r')\n",
    "plt.scatter(K, test, color ='g')\n",
    "plt.show()"
   ]
  }
 ],
 "metadata": {
  "kernelspec": {
   "display_name": "Python 3 (ipykernel)",
   "language": "python",
   "name": "python3"
  },
  "language_info": {
   "codemirror_mode": {
    "name": "ipython",
    "version": 3
   },
   "file_extension": ".py",
   "mimetype": "text/x-python",
   "name": "python",
   "nbconvert_exporter": "python",
   "pygments_lexer": "ipython3",
   "version": "3.9.12"
  }
 },
 "nbformat": 4,
 "nbformat_minor": 5
}
