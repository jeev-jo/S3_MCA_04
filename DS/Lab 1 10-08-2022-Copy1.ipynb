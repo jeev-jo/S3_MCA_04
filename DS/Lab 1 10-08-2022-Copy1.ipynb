{
 "cells": [
  {
   "cell_type": "markdown",
   "id": "be85d98f",
   "metadata": {},
   "source": [
    "# Review of Python Programming\n",
    "## 1. Write a program in python to check whether an input number is prime or not\n",
    "## 2. Write a program in python to remove all occurence of a specifc item from a list.\n",
    "## 3. Write a program in python to count the occurence of a word in a line of text."
   ]
  },
  {
   "cell_type": "code",
   "execution_count": 20,
   "id": "e0e91a4b",
   "metadata": {},
   "outputs": [
    {
     "name": "stdout",
     "output_type": "stream",
     "text": [
      "enter the number: 5\n",
      "the number 5 is prime\n"
     ]
    }
   ],
   "source": [
    "#1\n",
    "n= int(input(\"enter the number: \"))\n",
    "flag = False\n",
    "for i in range(2,n):\n",
    "    if(n % i) == 0:\n",
    "        flag = True\n",
    "        break\n",
    "if(flag == True):\n",
    "    print(\"the number\",n,\"is not prime\")\n",
    "else:\n",
    "    print(\"the number\",n,\"is prime\")\n",
    "        "
   ]
  },
  {
   "cell_type": "code",
   "execution_count": 21,
   "id": "1f46619f",
   "metadata": {},
   "outputs": [
    {
     "name": "stdout",
     "output_type": "stream",
     "text": [
      "[1, 2, 3, 4, 5, 6, 11, 1, 14, 3, 4, 12, 9]\n",
      "enter the element want to delete: 12\n",
      "list after removal is [1, 2, 3, 4, 5, 6, 11, 1, 14, 3, 4, 9]\n"
     ]
    }
   ],
   "source": [
    "#2\n",
    "list=[1,2,3,4,5,6,11,1,14,3,4,12,9]\n",
    "print(list)\n",
    "n= int(input(\"enter the element want to delete: \"))\n",
    "for i in list:\n",
    "    if(i == n):\n",
    "        list.remove(n)\n",
    "print(\"list after removal is\",list)"
   ]
  },
  {
   "cell_type": "code",
   "execution_count": 1,
   "id": "d1eeae62",
   "metadata": {},
   "outputs": [
    {
     "name": "stdout",
     "output_type": "stream",
     "text": [
      "enter the text:  Coursera hero_image New! Create apps for Android and iOS using React Native Learn how to create cross-platform mobile applications in the new React Native Specialization, taught by engineering experts at Meta. React is the preeminent framework used by popular mobile apps like Instagram, Pinterest, UberEats, Words with Friends, and more.\n",
      "enter the word to count: the\n",
      "the number of occurence of word the in the given text is 2\n"
     ]
    }
   ],
   "source": [
    "t= input(\"enter the text: \")\n",
    "text = t.split(\" \")\n",
    "word= input(\"enter the word to count: \")\n",
    "count=text.count(word)\n",
    "print(\"the number of occurence of word\",word,\"in the given text is\",count)"
   ]
  }
 ],
 "metadata": {
  "kernelspec": {
   "display_name": "Python 3 (ipykernel)",
   "language": "python",
   "name": "python3"
  },
  "language_info": {
   "codemirror_mode": {
    "name": "ipython",
    "version": 3
   },
   "file_extension": ".py",
   "mimetype": "text/x-python",
   "name": "python",
   "nbconvert_exporter": "python",
   "pygments_lexer": "ipython3",
   "version": "3.9.12"
  }
 },
 "nbformat": 4,
 "nbformat_minor": 5
}
