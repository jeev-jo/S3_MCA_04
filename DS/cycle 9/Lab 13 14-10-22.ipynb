{
 "cells": [
  {
   "cell_type": "markdown",
   "id": "9e5ea4e5",
   "metadata": {},
   "source": [
    "# Decision Tree"
   ]
  },
  {
   "cell_type": "markdown",
   "id": "cd1977ed",
   "metadata": {},
   "source": [
    "### Program to implement decision trees using any standard dataset available in the public domain and find the accuracy of the algorithm\n",
    "#### Ajay Jeevan Jose"
   ]
  },
  {
   "cell_type": "code",
   "execution_count": 2,
   "id": "de71142a",
   "metadata": {},
   "outputs": [],
   "source": [
    "import numpy as np\n",
    "import matplotlib.pyplot as plt\n",
    "import pandas as pd"
   ]
  },
  {
   "cell_type": "markdown",
   "id": "48169721",
   "metadata": {},
   "source": [
    "## Data Preprocessing"
   ]
  },
  {
   "cell_type": "code",
   "execution_count": 3,
   "id": "a70387e6",
   "metadata": {
    "scrolled": true
   },
   "outputs": [
    {
     "name": "stdout",
     "output_type": "stream",
     "text": [
      "     sepal_length  sepal_width  petal_length  petal_width    species\n",
      "0             5.1          3.5           1.4          0.2     setosa\n",
      "1             4.9          3.0           1.4          0.2     setosa\n",
      "2             4.7          3.2           1.3          0.2     setosa\n",
      "3             4.6          3.1           1.5          0.2     setosa\n",
      "4             5.0          3.6           1.4          0.2     setosa\n",
      "..            ...          ...           ...          ...        ...\n",
      "145           6.7          3.0           5.2          2.3  virginica\n",
      "146           6.3          2.5           5.0          1.9  virginica\n",
      "147           6.5          3.0           5.2          2.0  virginica\n",
      "148           6.2          3.4           5.4          2.3  virginica\n",
      "149           5.9          3.0           5.1          1.8  virginica\n",
      "\n",
      "[150 rows x 5 columns]\n"
     ]
    }
   ],
   "source": [
    "df = pd.read_csv('iris.csv')\n",
    "print(df)"
   ]
  },
  {
   "cell_type": "code",
   "execution_count": 4,
   "id": "6d91e150",
   "metadata": {},
   "outputs": [
    {
     "data": {
      "text/plain": [
       "setosa        50\n",
       "virginica     50\n",
       "versicolor    50\n",
       "Name: species, dtype: int64"
      ]
     },
     "execution_count": 4,
     "metadata": {},
     "output_type": "execute_result"
    }
   ],
   "source": [
    "df.species.value_counts()"
   ]
  },
  {
   "cell_type": "markdown",
   "id": "4e247bdc",
   "metadata": {},
   "source": [
    "### Preprocessing"
   ]
  },
  {
   "cell_type": "code",
   "execution_count": 5,
   "id": "a808e241",
   "metadata": {},
   "outputs": [
    {
     "name": "stdout",
     "output_type": "stream",
     "text": [
      "0         setosa\n",
      "1         setosa\n",
      "2         setosa\n",
      "3         setosa\n",
      "4         setosa\n",
      "         ...    \n",
      "145    virginica\n",
      "146    virginica\n",
      "147    virginica\n",
      "148    virginica\n",
      "149    virginica\n",
      "Name: species, Length: 150, dtype: object\n",
      "     sepal_length  sepal_width  petal_length  petal_width\n",
      "0             5.1          3.5           1.4          0.2\n",
      "1             4.9          3.0           1.4          0.2\n",
      "2             4.7          3.2           1.3          0.2\n",
      "3             4.6          3.1           1.5          0.2\n",
      "4             5.0          3.6           1.4          0.2\n",
      "..            ...          ...           ...          ...\n",
      "145           6.7          3.0           5.2          2.3\n",
      "146           6.3          2.5           5.0          1.9\n",
      "147           6.5          3.0           5.2          2.0\n",
      "148           6.2          3.4           5.4          2.3\n",
      "149           5.9          3.0           5.1          1.8\n",
      "\n",
      "[150 rows x 4 columns]\n"
     ]
    }
   ],
   "source": [
    "y=df['species']\n",
    "print(y)\n",
    "df=df.drop(['species'],axis=1)\n",
    "x= df\n",
    "print(x)"
   ]
  },
  {
   "cell_type": "code",
   "execution_count": 6,
   "id": "556c57cc",
   "metadata": {},
   "outputs": [
    {
     "data": {
      "text/html": [
       "<div>\n",
       "<style scoped>\n",
       "    .dataframe tbody tr th:only-of-type {\n",
       "        vertical-align: middle;\n",
       "    }\n",
       "\n",
       "    .dataframe tbody tr th {\n",
       "        vertical-align: top;\n",
       "    }\n",
       "\n",
       "    .dataframe thead th {\n",
       "        text-align: right;\n",
       "    }\n",
       "</style>\n",
       "<table border=\"1\" class=\"dataframe\">\n",
       "  <thead>\n",
       "    <tr style=\"text-align: right;\">\n",
       "      <th></th>\n",
       "      <th>sepal_length</th>\n",
       "      <th>sepal_width</th>\n",
       "      <th>petal_length</th>\n",
       "      <th>petal_width</th>\n",
       "    </tr>\n",
       "  </thead>\n",
       "  <tbody>\n",
       "    <tr>\n",
       "      <th>count</th>\n",
       "      <td>150.000000</td>\n",
       "      <td>150.000000</td>\n",
       "      <td>150.000000</td>\n",
       "      <td>150.000000</td>\n",
       "    </tr>\n",
       "    <tr>\n",
       "      <th>mean</th>\n",
       "      <td>5.843333</td>\n",
       "      <td>3.054000</td>\n",
       "      <td>3.758667</td>\n",
       "      <td>1.198667</td>\n",
       "    </tr>\n",
       "    <tr>\n",
       "      <th>std</th>\n",
       "      <td>0.828066</td>\n",
       "      <td>0.433594</td>\n",
       "      <td>1.764420</td>\n",
       "      <td>0.763161</td>\n",
       "    </tr>\n",
       "    <tr>\n",
       "      <th>min</th>\n",
       "      <td>4.300000</td>\n",
       "      <td>2.000000</td>\n",
       "      <td>1.000000</td>\n",
       "      <td>0.100000</td>\n",
       "    </tr>\n",
       "    <tr>\n",
       "      <th>25%</th>\n",
       "      <td>5.100000</td>\n",
       "      <td>2.800000</td>\n",
       "      <td>1.600000</td>\n",
       "      <td>0.300000</td>\n",
       "    </tr>\n",
       "    <tr>\n",
       "      <th>50%</th>\n",
       "      <td>5.800000</td>\n",
       "      <td>3.000000</td>\n",
       "      <td>4.350000</td>\n",
       "      <td>1.300000</td>\n",
       "    </tr>\n",
       "    <tr>\n",
       "      <th>75%</th>\n",
       "      <td>6.400000</td>\n",
       "      <td>3.300000</td>\n",
       "      <td>5.100000</td>\n",
       "      <td>1.800000</td>\n",
       "    </tr>\n",
       "    <tr>\n",
       "      <th>max</th>\n",
       "      <td>7.900000</td>\n",
       "      <td>4.400000</td>\n",
       "      <td>6.900000</td>\n",
       "      <td>2.500000</td>\n",
       "    </tr>\n",
       "  </tbody>\n",
       "</table>\n",
       "</div>"
      ],
      "text/plain": [
       "       sepal_length  sepal_width  petal_length  petal_width\n",
       "count    150.000000   150.000000    150.000000   150.000000\n",
       "mean       5.843333     3.054000      3.758667     1.198667\n",
       "std        0.828066     0.433594      1.764420     0.763161\n",
       "min        4.300000     2.000000      1.000000     0.100000\n",
       "25%        5.100000     2.800000      1.600000     0.300000\n",
       "50%        5.800000     3.000000      4.350000     1.300000\n",
       "75%        6.400000     3.300000      5.100000     1.800000\n",
       "max        7.900000     4.400000      6.900000     2.500000"
      ]
     },
     "execution_count": 6,
     "metadata": {},
     "output_type": "execute_result"
    }
   ],
   "source": [
    "x.describe()"
   ]
  },
  {
   "cell_type": "markdown",
   "id": "1c2ec9b5",
   "metadata": {},
   "source": [
    "## Test & Train\n",
    "### Split Dataset"
   ]
  },
  {
   "cell_type": "code",
   "execution_count": 8,
   "id": "57d63e6d",
   "metadata": {},
   "outputs": [],
   "source": [
    "from sklearn.model_selection import train_test_split\n",
    "x_train, x_test, y_train, y_test= train_test_split(x, y, test_size= 0.25,random_state=0)"
   ]
  },
  {
   "cell_type": "markdown",
   "id": "ad66eb42",
   "metadata": {},
   "source": [
    "### Feature Scaling"
   ]
  },
  {
   "cell_type": "code",
   "execution_count": 9,
   "id": "7b1de643",
   "metadata": {
    "scrolled": false
   },
   "outputs": [
    {
     "name": "stdout",
     "output_type": "stream",
     "text": [
      "[[0.44444444 0.41666667 0.53448276 0.58333333]\n",
      " [0.41666667 0.25       0.5        0.45833333]\n",
      " [0.69444444 0.41666667 0.75862069 0.83333333]\n",
      " [0.11111111 0.5        0.03448276 0.04166667]\n",
      " [0.72222222 0.45833333 0.68965517 0.91666667]\n",
      " [0.19444444 0.625      0.0862069  0.20833333]\n",
      " [0.30555556 0.70833333 0.06896552 0.04166667]\n",
      " [0.19444444 0.         0.4137931  0.375     ]\n",
      " [0.61111111 0.41666667 0.75862069 0.70833333]\n",
      " [0.66666667 0.54166667 0.79310345 1.        ]\n",
      " [0.47222222 0.08333333 0.67241379 0.58333333]\n",
      " [0.66666667 0.20833333 0.81034483 0.70833333]\n",
      " [0.36111111 0.20833333 0.48275862 0.41666667]\n",
      " [0.94444444 0.41666667 0.86206897 0.91666667]\n",
      " [0.55555556 0.54166667 0.62068966 0.625     ]\n",
      " [0.33333333 0.16666667 0.46551724 0.41666667]\n",
      " [0.55555556 0.29166667 0.65517241 0.70833333]\n",
      " [0.55555556 0.33333333 0.68965517 0.58333333]\n",
      " [0.16666667 0.20833333 0.5862069  0.66666667]\n",
      " [0.55555556 0.20833333 0.67241379 0.75      ]\n",
      " [0.75       0.5        0.62068966 0.54166667]\n",
      " [0.61111111 0.41666667 0.70689655 0.79166667]\n",
      " [0.47222222 0.58333333 0.5862069  0.625     ]\n",
      " [0.13888889 0.45833333 0.0862069  0.04166667]\n",
      " [0.41666667 0.29166667 0.68965517 0.75      ]\n",
      " [0.36111111 0.29166667 0.53448276 0.5       ]\n",
      " [0.36111111 0.375      0.43103448 0.5       ]\n",
      " [0.33333333 0.20833333 0.5        0.5       ]\n",
      " [0.5        0.41666667 0.60344828 0.54166667]\n",
      " [0.80555556 0.5        0.84482759 0.70833333]\n",
      " [0.27777778 0.70833333 0.06896552 0.04166667]\n",
      " [0.         0.41666667 0.         0.        ]\n",
      " [0.58333333 0.29166667 0.72413793 0.75      ]\n",
      " [0.38888889 0.41666667 0.53448276 0.45833333]\n",
      " [0.30555556 0.58333333 0.10344828 0.04166667]\n",
      " [0.38888889 1.         0.06896552 0.125     ]\n",
      " [0.72222222 0.45833333 0.65517241 0.58333333]\n",
      " [0.08333333 0.45833333 0.06896552 0.04166667]\n",
      " [0.44444444 0.41666667 0.68965517 0.70833333]\n",
      " [0.22222222 0.20833333 0.32758621 0.41666667]\n",
      " [0.08333333 0.58333333 0.05172414 0.08333333]\n",
      " [0.52777778 0.08333333 0.5862069  0.58333333]\n",
      " [0.80555556 0.66666667 0.86206897 1.        ]\n",
      " [0.38888889 0.375      0.53448276 0.5       ]\n",
      " [0.13888889 0.41666667 0.05172414 0.        ]\n",
      " [0.77777778 0.41666667 0.82758621 0.83333333]\n",
      " [0.72222222 0.5        0.79310345 0.91666667]\n",
      " [0.61111111 0.41666667 0.81034483 0.875     ]\n",
      " [0.58333333 0.33333333 0.77586207 0.83333333]\n",
      " [0.22222222 0.75       0.0862069  0.04166667]\n",
      " [0.13888889 0.58333333 0.0862069  0.04166667]\n",
      " [0.61111111 0.5        0.68965517 0.79166667]\n",
      " [0.66666667 0.54166667 0.79310345 0.83333333]\n",
      " [0.05555556 0.125      0.03448276 0.08333333]\n",
      " [0.52777778 0.58333333 0.74137931 0.91666667]\n",
      " [0.16666667 0.41666667 0.05172414 0.04166667]\n",
      " [0.38888889 0.20833333 0.67241379 0.79166667]\n",
      " [0.72222222 0.45833333 0.74137931 0.83333333]\n",
      " [0.02777778 0.5        0.03448276 0.04166667]\n",
      " [0.19444444 0.66666667 0.05172414 0.04166667]\n",
      " [0.80555556 0.41666667 0.81034483 0.625     ]\n",
      " [0.22222222 0.625      0.05172414 0.08333333]\n",
      " [0.02777778 0.41666667 0.03448276 0.04166667]\n",
      " [0.30555556 0.79166667 0.10344828 0.125     ]\n",
      " [0.33333333 0.125      0.5        0.5       ]\n",
      " [0.69444444 0.5        0.82758621 0.91666667]\n",
      " [0.91666667 0.41666667 0.94827586 0.83333333]\n",
      " [0.22222222 0.625      0.05172414 0.04166667]\n",
      " [0.16666667 0.45833333 0.06896552 0.        ]\n",
      " [0.25       0.58333333 0.05172414 0.04166667]\n",
      " [0.38888889 0.33333333 0.5862069  0.5       ]\n",
      " [0.63888889 0.41666667 0.56896552 0.54166667]\n",
      " [0.19444444 0.5        0.01724138 0.04166667]\n",
      " [0.22222222 0.54166667 0.10344828 0.16666667]\n",
      " [0.58333333 0.375      0.55172414 0.5       ]\n",
      " [0.30555556 0.58333333 0.06896552 0.125     ]\n",
      " [0.94444444 0.25       1.         0.91666667]\n",
      " [0.16666667 0.16666667 0.37931034 0.375     ]\n",
      " [1.         0.75       0.9137931  0.79166667]\n",
      " [0.66666667 0.45833333 0.56896552 0.54166667]\n",
      " [0.25       0.875      0.06896552 0.        ]\n",
      " [0.47222222 0.41666667 0.63793103 0.70833333]\n",
      " [0.41666667 0.83333333 0.01724138 0.04166667]\n",
      " [0.94444444 0.33333333 0.96551724 0.79166667]\n",
      " [0.22222222 0.75       0.06896552 0.08333333]\n",
      " [0.11111111 0.5        0.0862069  0.04166667]\n",
      " [0.86111111 0.33333333 0.86206897 0.75      ]\n",
      " [0.19444444 0.54166667 0.05172414 0.04166667]\n",
      " [0.55555556 0.58333333 0.77586207 0.95833333]\n",
      " [0.38888889 0.33333333 0.51724138 0.5       ]\n",
      " [0.41666667 0.29166667 0.48275862 0.45833333]\n",
      " [0.38888889 0.25       0.4137931  0.375     ]\n",
      " [0.58333333 0.5        0.72413793 0.91666667]\n",
      " [0.66666667 0.41666667 0.70689655 0.91666667]\n",
      " [0.55555556 0.20833333 0.65517241 0.58333333]\n",
      " [0.66666667 0.41666667 0.67241379 0.66666667]\n",
      " [0.19444444 0.41666667 0.0862069  0.04166667]\n",
      " [0.33333333 0.16666667 0.44827586 0.375     ]\n",
      " [0.66666667 0.45833333 0.77586207 0.95833333]\n",
      " [0.41666667 0.29166667 0.68965517 0.75      ]\n",
      " [0.22222222 0.58333333 0.06896552 0.04166667]\n",
      " [0.63888889 0.375      0.60344828 0.5       ]\n",
      " [0.36111111 0.41666667 0.51724138 0.5       ]\n",
      " [0.44444444 0.5        0.63793103 0.70833333]\n",
      " [0.55555556 0.125      0.56896552 0.5       ]\n",
      " [0.33333333 0.625      0.03448276 0.04166667]\n",
      " [0.22222222 0.70833333 0.06896552 0.125     ]\n",
      " [0.16666667 0.45833333 0.06896552 0.        ]\n",
      " [0.55555556 0.375      0.77586207 0.70833333]\n",
      " [0.41666667 0.29166667 0.51724138 0.375     ]\n",
      " [0.94444444 0.75       0.96551724 0.875     ]\n",
      " [0.08333333 0.5        0.05172414 0.04166667]]\n"
     ]
    }
   ],
   "source": [
    "from sklearn.preprocessing import MinMaxScaler\n",
    "st_x= MinMaxScaler()\n",
    "x_train= st_x.fit_transform(x_train)\n",
    "x_test=st_x.fit_transform(x_test)\n",
    "print(x_train)"
   ]
  },
  {
   "cell_type": "markdown",
   "id": "9672e779",
   "metadata": {},
   "source": [
    "### Fitting to Decision Tree"
   ]
  },
  {
   "cell_type": "code",
   "execution_count": 10,
   "id": "ea7f9c36",
   "metadata": {},
   "outputs": [
    {
     "data": {
      "text/plain": [
       "DecisionTreeClassifier(criterion='entropy', random_state=0)"
      ]
     },
     "execution_count": 10,
     "metadata": {},
     "output_type": "execute_result"
    }
   ],
   "source": [
    "from sklearn import tree\n",
    "classifier = tree.DecisionTreeClassifier(criterion = 'entropy', random_state =0)\n",
    "classifier.fit(x_train, y_train)"
   ]
  },
  {
   "cell_type": "markdown",
   "id": "c335b67b",
   "metadata": {},
   "source": [
    "## Visualisation"
   ]
  },
  {
   "cell_type": "code",
   "execution_count": 11,
   "id": "5a57925c",
   "metadata": {},
   "outputs": [
    {
     "data": {
      "text/plain": [
       "[Text(267.84000000000003, 391.392, 'X[3] <= 0.292\\nentropy = 1.581\\nsamples = 112\\nvalue = [37, 34, 41]'),\n",
       " Text(200.88000000000002, 304.416, 'entropy = 0.0\\nsamples = 37\\nvalue = [37, 0, 0]'),\n",
       " Text(334.80000000000007, 304.416, 'X[2] <= 0.664\\nentropy = 0.994\\nsamples = 75\\nvalue = [0, 34, 41]'),\n",
       " Text(133.92000000000002, 217.44, 'X[3] <= 0.646\\nentropy = 0.414\\nsamples = 36\\nvalue = [0, 33, 3]'),\n",
       " Text(66.96000000000001, 130.464, 'entropy = 0.0\\nsamples = 32\\nvalue = [0, 32, 0]'),\n",
       " Text(200.88000000000002, 130.464, 'X[1] <= 0.458\\nentropy = 0.811\\nsamples = 4\\nvalue = [0, 1, 3]'),\n",
       " Text(133.92000000000002, 43.488, 'entropy = 0.0\\nsamples = 3\\nvalue = [0, 0, 3]'),\n",
       " Text(267.84000000000003, 43.488, 'entropy = 0.0\\nsamples = 1\\nvalue = [0, 1, 0]'),\n",
       " Text(535.6800000000001, 217.44, 'X[3] <= 0.688\\nentropy = 0.172\\nsamples = 39\\nvalue = [0, 1, 38]'),\n",
       " Text(468.72, 130.464, 'X[3] <= 0.646\\nentropy = 0.811\\nsamples = 4\\nvalue = [0, 1, 3]'),\n",
       " Text(401.76000000000005, 43.488, 'entropy = 0.0\\nsamples = 3\\nvalue = [0, 0, 3]'),\n",
       " Text(535.6800000000001, 43.488, 'entropy = 0.0\\nsamples = 1\\nvalue = [0, 1, 0]'),\n",
       " Text(602.6400000000001, 130.464, 'entropy = 0.0\\nsamples = 35\\nvalue = [0, 0, 35]')]"
      ]
     },
     "execution_count": 11,
     "metadata": {},
     "output_type": "execute_result"
    },
    {
     "data": {
      "image/png": "[encoded data removed]",
      "text/plain": [
       "<Figure size 864x576 with 1 Axes>"
      ]
     },
     "metadata": {
      "needs_background": "light"
     },
     "output_type": "display_data"
    }
   ],
   "source": [
    "plt.figure(figsize = (12,8))\n",
    "tree.plot_tree(classifier)"
   ]
  },
  {
   "cell_type": "markdown",
   "id": "f335ac39",
   "metadata": {},
   "source": [
    "### Visualisation using Graphviz"
   ]
  },
  {
   "cell_type": "code",
   "execution_count": 12,
   "id": "9737c938",
   "metadata": {},
   "outputs": [
    {
     "name": "stdout",
     "output_type": "stream",
     "text": [
      "Defaulting to user installation because normal site-packages is not writeable\n",
      "Requirement already satisfied: graphviz in /home/student/.local/lib/python3.9/site-packages (0.20.1)\n",
      "\u001b[33mWARNING: You are using pip version 20.3.3; however, version 22.3 is available.\n",
      "You should consider upgrading via the '/opt/anaconda3/bin/python -m pip install --upgrade pip' command.\u001b[0m\n"
     ]
    }
   ],
   "source": [
    "!pip install graphviz\n",
    "import graphviz"
   ]
  },
  {
   "cell_type": "code",
   "execution_count": 13,
   "id": "7fcf85ed",
   "metadata": {},
   "outputs": [],
   "source": [
    "g_tree = tree.export_graphviz(classifier, out_file=None,\n",
    "                                feature_names=df.columns,\n",
    "                                class_names=['setosa','versicolor','virginica'],\n",
    "                                filled=True, rounded=True,\n",
    "                                special_characters=True)"
   ]
  },
  {
   "cell_type": "code",
   "execution_count": 14,
   "id": "4c7cfacc",
   "metadata": {},
   "outputs": [
    {
     "data": {
      "image/svg+xml": [
       "<?xml version=\"1.0\" encoding=\"UTF-8\" standalone=\"no\"?>\n",
       "<!DOCTYPE svg PUBLIC \"-//W3C//DTD SVG 1.1//EN\"\n",
       " \"http://www.w3.org/Graphics/SVG/1.1/DTD/svg11.dtd\">\n",
       "<!-- Generated by graphviz version 2.43.0 (0)\n",
       " -->\n",
       "<!-- Title: Tree Pages: 1 -->\n",
       "<svg width=\"660pt\" height=\"552pt\"\n",
       " viewBox=\"0.00 0.00 660.00 552.00\" xmlns=\"http://www.w3.org/2000/svg\" xmlns:xlink=\"http://www.w3.org/1999/xlink\">\n",
       "<g id=\"graph0\" class=\"graph\" transform=\"scale(1 1) rotate(0) translate(4 548)\">\n",
       "<title>Tree</title>\n",
       "<polygon fill=\"white\" stroke=\"transparent\" points=\"-4,4 -4,-548 656,-548 656,4 -4,4\"/>\n",
       "<!-- 0 -->\n",
       "<g id=\"node1\" class=\"node\">\n",
       "<title>0</title>\n",
       "<path fill=\"#f8f4fe\" stroke=\"black\" d=\"M308,-544C308,-544 174,-544 174,-544 168,-544 162,-538 162,-532 162,-532 162,-473 162,-473 162,-467 168,-461 174,-461 174,-461 308,-461 308,-461 314,-461 320,-467 320,-473 320,-473 320,-532 320,-532 320,-538 314,-544 308,-544\"/>\n",
       "<text text-anchor=\"start\" x=\"170\" y=\"-528.8\" font-family=\"Helvetica,sans-Serif\" font-size=\"14.00\">petal_width ≤ 0.292</text>\n",
       "<text text-anchor=\"start\" x=\"183.5\" y=\"-513.8\" font-family=\"Helvetica,sans-Serif\" font-size=\"14.00\">entropy = 1.581</text>\n",
       "<text text-anchor=\"start\" x=\"188\" y=\"-498.8\" font-family=\"Helvetica,sans-Serif\" font-size=\"14.00\">samples = 112</text>\n",
       "<text text-anchor=\"start\" x=\"170\" y=\"-483.8\" font-family=\"Helvetica,sans-Serif\" font-size=\"14.00\">value = [37, 34, 41]</text>\n",
       "<text text-anchor=\"start\" x=\"183.5\" y=\"-468.8\" font-family=\"Helvetica,sans-Serif\" font-size=\"14.00\">class = virginica</text>\n",
       "</g>\n",
       "<!-- 1 -->\n",
       "<g id=\"node2\" class=\"node\">\n",
       "<title>1</title>\n",
       "<path fill=\"#e58139\" stroke=\"black\" d=\"M214,-417.5C214,-417.5 98,-417.5 98,-417.5 92,-417.5 86,-411.5 86,-405.5 86,-405.5 86,-361.5 86,-361.5 86,-355.5 92,-349.5 98,-349.5 98,-349.5 214,-349.5 214,-349.5 220,-349.5 226,-355.5 226,-361.5 226,-361.5 226,-405.5 226,-405.5 226,-411.5 220,-417.5 214,-417.5\"/>\n",
       "<text text-anchor=\"start\" x=\"107.5\" y=\"-402.3\" font-family=\"Helvetica,sans-Serif\" font-size=\"14.00\">entropy = 0.0</text>\n",
       "<text text-anchor=\"start\" x=\"107.5\" y=\"-387.3\" font-family=\"Helvetica,sans-Serif\" font-size=\"14.00\">samples = 37</text>\n",
       "<text text-anchor=\"start\" x=\"94\" y=\"-372.3\" font-family=\"Helvetica,sans-Serif\" font-size=\"14.00\">value = [37, 0, 0]</text>\n",
       "<text text-anchor=\"start\" x=\"105.5\" y=\"-357.3\" font-family=\"Helvetica,sans-Serif\" font-size=\"14.00\">class = setosa</text>\n",
       "</g>\n",
       "<!-- 0&#45;&gt;1 -->\n",
       "<g id=\"edge1\" class=\"edge\">\n",
       "<title>0&#45;&gt;1</title>\n",
       "<path fill=\"none\" stroke=\"black\" d=\"M211.51,-460.91C203.25,-449.54 194.27,-437.18 185.99,-425.77\"/>\n",
       "<polygon fill=\"black\" stroke=\"black\" points=\"188.8,-423.7 180.1,-417.67 183.14,-427.81 188.8,-423.7\"/>\n",
       "<text text-anchor=\"middle\" x=\"176.18\" y=\"-438.66\" font-family=\"Helvetica,sans-Serif\" font-size=\"14.00\">True</text>\n",
       "</g>\n",
       "<!-- 2 -->\n",
       "<g id=\"node3\" class=\"node\">\n",
       "<title>2</title>\n",
       "<path fill=\"#e9ddfb\" stroke=\"black\" d=\"M396,-425C396,-425 256,-425 256,-425 250,-425 244,-419 244,-413 244,-413 244,-354 244,-354 244,-348 250,-342 256,-342 256,-342 396,-342 396,-342 402,-342 408,-348 408,-354 408,-354 408,-413 408,-413 408,-419 402,-425 396,-425\"/>\n",
       "<text text-anchor=\"start\" x=\"252\" y=\"-409.8\" font-family=\"Helvetica,sans-Serif\" font-size=\"14.00\">petal_length ≤ 0.664</text>\n",
       "<text text-anchor=\"start\" x=\"268.5\" y=\"-394.8\" font-family=\"Helvetica,sans-Serif\" font-size=\"14.00\">entropy = 0.994</text>\n",
       "<text text-anchor=\"start\" x=\"277.5\" y=\"-379.8\" font-family=\"Helvetica,sans-Serif\" font-size=\"14.00\">samples = 75</text>\n",
       "<text text-anchor=\"start\" x=\"259.5\" y=\"-364.8\" font-family=\"Helvetica,sans-Serif\" font-size=\"14.00\">value = [0, 34, 41]</text>\n",
       "<text text-anchor=\"start\" x=\"268.5\" y=\"-349.8\" font-family=\"Helvetica,sans-Serif\" font-size=\"14.00\">class = virginica</text>\n",
       "</g>\n",
       "<!-- 0&#45;&gt;2 -->\n",
       "<g id=\"edge2\" class=\"edge\">\n",
       "<title>0&#45;&gt;2</title>\n",
       "<path fill=\"none\" stroke=\"black\" d=\"M270.49,-460.91C276.95,-452.01 283.86,-442.51 290.52,-433.33\"/>\n",
       "<polygon fill=\"black\" stroke=\"black\" points=\"293.52,-435.17 296.56,-425.02 287.85,-431.05 293.52,-435.17\"/>\n",
       "<text text-anchor=\"middle\" x=\"300.47\" y=\"-446.01\" font-family=\"Helvetica,sans-Serif\" font-size=\"14.00\">False</text>\n",
       "</g>\n",
       "<!-- 3 -->\n",
       "<g id=\"node4\" class=\"node\">\n",
       "<title>3</title>\n",
       "<path fill=\"#4be78c\" stroke=\"black\" d=\"M305,-306C305,-306 171,-306 171,-306 165,-306 159,-300 159,-294 159,-294 159,-235 159,-235 159,-229 165,-223 171,-223 171,-223 305,-223 305,-223 311,-223 317,-229 317,-235 317,-235 317,-294 317,-294 317,-300 311,-306 305,-306\"/>\n",
       "<text text-anchor=\"start\" x=\"167\" y=\"-290.8\" font-family=\"Helvetica,sans-Serif\" font-size=\"14.00\">petal_width ≤ 0.646</text>\n",
       "<text text-anchor=\"start\" x=\"180.5\" y=\"-275.8\" font-family=\"Helvetica,sans-Serif\" font-size=\"14.00\">entropy = 0.414</text>\n",
       "<text text-anchor=\"start\" x=\"189.5\" y=\"-260.8\" font-family=\"Helvetica,sans-Serif\" font-size=\"14.00\">samples = 36</text>\n",
       "<text text-anchor=\"start\" x=\"176\" y=\"-245.8\" font-family=\"Helvetica,sans-Serif\" font-size=\"14.00\">value = [0, 33, 3]</text>\n",
       "<text text-anchor=\"start\" x=\"176\" y=\"-230.8\" font-family=\"Helvetica,sans-Serif\" font-size=\"14.00\">class = versicolor</text>\n",
       "</g>\n",
       "<!-- 2&#45;&gt;3 -->\n",
       "<g id=\"edge3\" class=\"edge\">\n",
       "<title>2&#45;&gt;3</title>\n",
       "<path fill=\"none\" stroke=\"black\" d=\"M295.47,-341.91C288.71,-332.92 281.48,-323.32 274.52,-314.05\"/>\n",
       "<polygon fill=\"black\" stroke=\"black\" points=\"277.29,-311.91 268.48,-306.02 271.69,-316.12 277.29,-311.91\"/>\n",
       "</g>\n",
       "<!-- 8 -->\n",
       "<g id=\"node9\" class=\"node\">\n",
       "<title>8</title>\n",
       "<path fill=\"#843ee6\" stroke=\"black\" d=\"M482,-306C482,-306 348,-306 348,-306 342,-306 336,-300 336,-294 336,-294 336,-235 336,-235 336,-229 342,-223 348,-223 348,-223 482,-223 482,-223 488,-223 494,-229 494,-235 494,-235 494,-294 494,-294 494,-300 488,-306 482,-306\"/>\n",
       "<text text-anchor=\"start\" x=\"344\" y=\"-290.8\" font-family=\"Helvetica,sans-Serif\" font-size=\"14.00\">petal_width ≤ 0.688</text>\n",
       "<text text-anchor=\"start\" x=\"357.5\" y=\"-275.8\" font-family=\"Helvetica,sans-Serif\" font-size=\"14.00\">entropy = 0.172</text>\n",
       "<text text-anchor=\"start\" x=\"366.5\" y=\"-260.8\" font-family=\"Helvetica,sans-Serif\" font-size=\"14.00\">samples = 39</text>\n",
       "<text text-anchor=\"start\" x=\"353\" y=\"-245.8\" font-family=\"Helvetica,sans-Serif\" font-size=\"14.00\">value = [0, 1, 38]</text>\n",
       "<text text-anchor=\"start\" x=\"357.5\" y=\"-230.8\" font-family=\"Helvetica,sans-Serif\" font-size=\"14.00\">class = virginica</text>\n",
       "</g>\n",
       "<!-- 2&#45;&gt;8 -->\n",
       "<g id=\"edge8\" class=\"edge\">\n",
       "<title>2&#45;&gt;8</title>\n",
       "<path fill=\"none\" stroke=\"black\" d=\"M356.88,-341.91C363.71,-332.92 371.02,-323.32 378.07,-314.05\"/>\n",
       "<polygon fill=\"black\" stroke=\"black\" points=\"380.91,-316.1 384.18,-306.02 375.34,-311.86 380.91,-316.1\"/>\n",
       "</g>\n",
       "<!-- 4 -->\n",
       "<g id=\"node5\" class=\"node\">\n",
       "<title>4</title>\n",
       "<path fill=\"#39e581\" stroke=\"black\" d=\"M128,-179.5C128,-179.5 12,-179.5 12,-179.5 6,-179.5 0,-173.5 0,-167.5 0,-167.5 0,-123.5 0,-123.5 0,-117.5 6,-111.5 12,-111.5 12,-111.5 128,-111.5 128,-111.5 134,-111.5 140,-117.5 140,-123.5 140,-123.5 140,-167.5 140,-167.5 140,-173.5 134,-179.5 128,-179.5\"/>\n",
       "<text text-anchor=\"start\" x=\"21.5\" y=\"-164.3\" font-family=\"Helvetica,sans-Serif\" font-size=\"14.00\">entropy = 0.0</text>\n",
       "<text text-anchor=\"start\" x=\"21.5\" y=\"-149.3\" font-family=\"Helvetica,sans-Serif\" font-size=\"14.00\">samples = 32</text>\n",
       "<text text-anchor=\"start\" x=\"8\" y=\"-134.3\" font-family=\"Helvetica,sans-Serif\" font-size=\"14.00\">value = [0, 32, 0]</text>\n",
       "<text text-anchor=\"start\" x=\"8\" y=\"-119.3\" font-family=\"Helvetica,sans-Serif\" font-size=\"14.00\">class = versicolor</text>\n",
       "</g>\n",
       "<!-- 3&#45;&gt;4 -->\n",
       "<g id=\"edge4\" class=\"edge\">\n",
       "<title>3&#45;&gt;4</title>\n",
       "<path fill=\"none\" stroke=\"black\" d=\"M179.71,-222.91C162.28,-210.77 143.22,-197.49 125.95,-185.46\"/>\n",
       "<polygon fill=\"black\" stroke=\"black\" points=\"127.83,-182.51 117.62,-179.67 123.83,-188.25 127.83,-182.51\"/>\n",
       "</g>\n",
       "<!-- 5 -->\n",
       "<g id=\"node6\" class=\"node\">\n",
       "<title>5</title>\n",
       "<path fill=\"#ab7bee\" stroke=\"black\" d=\"M306,-187C306,-187 170,-187 170,-187 164,-187 158,-181 158,-175 158,-175 158,-116 158,-116 158,-110 164,-104 170,-104 170,-104 306,-104 306,-104 312,-104 318,-110 318,-116 318,-116 318,-175 318,-175 318,-181 312,-187 306,-187\"/>\n",
       "<text text-anchor=\"start\" x=\"166\" y=\"-171.8\" font-family=\"Helvetica,sans-Serif\" font-size=\"14.00\">sepal_width ≤ 0.458</text>\n",
       "<text text-anchor=\"start\" x=\"180.5\" y=\"-156.8\" font-family=\"Helvetica,sans-Serif\" font-size=\"14.00\">entropy = 0.811</text>\n",
       "<text text-anchor=\"start\" x=\"194\" y=\"-141.8\" font-family=\"Helvetica,sans-Serif\" font-size=\"14.00\">samples = 4</text>\n",
       "<text text-anchor=\"start\" x=\"180.5\" y=\"-126.8\" font-family=\"Helvetica,sans-Serif\" font-size=\"14.00\">value = [0, 1, 3]</text>\n",
       "<text text-anchor=\"start\" x=\"180.5\" y=\"-111.8\" font-family=\"Helvetica,sans-Serif\" font-size=\"14.00\">class = virginica</text>\n",
       "</g>\n",
       "<!-- 3&#45;&gt;5 -->\n",
       "<g id=\"edge5\" class=\"edge\">\n",
       "<title>3&#45;&gt;5</title>\n",
       "<path fill=\"none\" stroke=\"black\" d=\"M238,-222.91C238,-214.65 238,-205.86 238,-197.3\"/>\n",
       "<polygon fill=\"black\" stroke=\"black\" points=\"241.5,-197.02 238,-187.02 234.5,-197.02 241.5,-197.02\"/>\n",
       "</g>\n",
       "<!-- 6 -->\n",
       "<g id=\"node7\" class=\"node\">\n",
       "<title>6</title>\n",
       "<path fill=\"#8139e5\" stroke=\"black\" d=\"M143.5,-68C143.5,-68 36.5,-68 36.5,-68 30.5,-68 24.5,-62 24.5,-56 24.5,-56 24.5,-12 24.5,-12 24.5,-6 30.5,0 36.5,0 36.5,0 143.5,0 143.5,0 149.5,0 155.5,-6 155.5,-12 155.5,-12 155.5,-56 155.5,-56 155.5,-62 149.5,-68 143.5,-68\"/>\n",
       "<text text-anchor=\"start\" x=\"41.5\" y=\"-52.8\" font-family=\"Helvetica,sans-Serif\" font-size=\"14.00\">entropy = 0.0</text>\n",
       "<text text-anchor=\"start\" x=\"46\" y=\"-37.8\" font-family=\"Helvetica,sans-Serif\" font-size=\"14.00\">samples = 3</text>\n",
       "<text text-anchor=\"start\" x=\"32.5\" y=\"-22.8\" font-family=\"Helvetica,sans-Serif\" font-size=\"14.00\">value = [0, 0, 3]</text>\n",
       "<text text-anchor=\"start\" x=\"32.5\" y=\"-7.8\" font-family=\"Helvetica,sans-Serif\" font-size=\"14.00\">class = virginica</text>\n",
       "</g>\n",
       "<!-- 5&#45;&gt;6 -->\n",
       "<g id=\"edge6\" class=\"edge\">\n",
       "<title>5&#45;&gt;6</title>\n",
       "<path fill=\"none\" stroke=\"black\" d=\"M182.89,-103.73C169.95,-94.15 156.18,-83.96 143.31,-74.44\"/>\n",
       "<polygon fill=\"black\" stroke=\"black\" points=\"145.13,-71.43 135.01,-68.3 140.96,-77.06 145.13,-71.43\"/>\n",
       "</g>\n",
       "<!-- 7 -->\n",
       "<g id=\"node8\" class=\"node\">\n",
       "<title>7</title>\n",
       "<path fill=\"#39e581\" stroke=\"black\" d=\"M302,-68C302,-68 186,-68 186,-68 180,-68 174,-62 174,-56 174,-56 174,-12 174,-12 174,-6 180,0 186,0 186,0 302,0 302,0 308,0 314,-6 314,-12 314,-12 314,-56 314,-56 314,-62 308,-68 302,-68\"/>\n",
       "<text text-anchor=\"start\" x=\"195.5\" y=\"-52.8\" font-family=\"Helvetica,sans-Serif\" font-size=\"14.00\">entropy = 0.0</text>\n",
       "<text text-anchor=\"start\" x=\"200\" y=\"-37.8\" font-family=\"Helvetica,sans-Serif\" font-size=\"14.00\">samples = 1</text>\n",
       "<text text-anchor=\"start\" x=\"186.5\" y=\"-22.8\" font-family=\"Helvetica,sans-Serif\" font-size=\"14.00\">value = [0, 1, 0]</text>\n",
       "<text text-anchor=\"start\" x=\"182\" y=\"-7.8\" font-family=\"Helvetica,sans-Serif\" font-size=\"14.00\">class = versicolor</text>\n",
       "</g>\n",
       "<!-- 5&#45;&gt;7 -->\n",
       "<g id=\"edge7\" class=\"edge\">\n",
       "<title>5&#45;&gt;7</title>\n",
       "<path fill=\"none\" stroke=\"black\" d=\"M240.23,-103.73C240.68,-95.52 241.16,-86.86 241.61,-78.56\"/>\n",
       "<polygon fill=\"black\" stroke=\"black\" points=\"245.12,-78.48 242.18,-68.3 238.13,-78.09 245.12,-78.48\"/>\n",
       "</g>\n",
       "<!-- 9 -->\n",
       "<g id=\"node10\" class=\"node\">\n",
       "<title>9</title>\n",
       "<path fill=\"#ab7bee\" stroke=\"black\" d=\"M482,-187C482,-187 348,-187 348,-187 342,-187 336,-181 336,-175 336,-175 336,-116 336,-116 336,-110 342,-104 348,-104 348,-104 482,-104 482,-104 488,-104 494,-110 494,-116 494,-116 494,-175 494,-175 494,-181 488,-187 482,-187\"/>\n",
       "<text text-anchor=\"start\" x=\"344\" y=\"-171.8\" font-family=\"Helvetica,sans-Serif\" font-size=\"14.00\">petal_width ≤ 0.646</text>\n",
       "<text text-anchor=\"start\" x=\"357.5\" y=\"-156.8\" font-family=\"Helvetica,sans-Serif\" font-size=\"14.00\">entropy = 0.811</text>\n",
       "<text text-anchor=\"start\" x=\"371\" y=\"-141.8\" font-family=\"Helvetica,sans-Serif\" font-size=\"14.00\">samples = 4</text>\n",
       "<text text-anchor=\"start\" x=\"357.5\" y=\"-126.8\" font-family=\"Helvetica,sans-Serif\" font-size=\"14.00\">value = [0, 1, 3]</text>\n",
       "<text text-anchor=\"start\" x=\"357.5\" y=\"-111.8\" font-family=\"Helvetica,sans-Serif\" font-size=\"14.00\">class = virginica</text>\n",
       "</g>\n",
       "<!-- 8&#45;&gt;9 -->\n",
       "<g id=\"edge9\" class=\"edge\">\n",
       "<title>8&#45;&gt;9</title>\n",
       "<path fill=\"none\" stroke=\"black\" d=\"M415,-222.91C415,-214.65 415,-205.86 415,-197.3\"/>\n",
       "<polygon fill=\"black\" stroke=\"black\" points=\"418.5,-197.02 415,-187.02 411.5,-197.02 418.5,-197.02\"/>\n",
       "</g>\n",
       "<!-- 12 -->\n",
       "<g id=\"node13\" class=\"node\">\n",
       "<title>12</title>\n",
       "<path fill=\"#8139e5\" stroke=\"black\" d=\"M640,-179.5C640,-179.5 524,-179.5 524,-179.5 518,-179.5 512,-173.5 512,-167.5 512,-167.5 512,-123.5 512,-123.5 512,-117.5 518,-111.5 524,-111.5 524,-111.5 640,-111.5 640,-111.5 646,-111.5 652,-117.5 652,-123.5 652,-123.5 652,-167.5 652,-167.5 652,-173.5 646,-179.5 640,-179.5\"/>\n",
       "<text text-anchor=\"start\" x=\"533.5\" y=\"-164.3\" font-family=\"Helvetica,sans-Serif\" font-size=\"14.00\">entropy = 0.0</text>\n",
       "<text text-anchor=\"start\" x=\"533.5\" y=\"-149.3\" font-family=\"Helvetica,sans-Serif\" font-size=\"14.00\">samples = 35</text>\n",
       "<text text-anchor=\"start\" x=\"520\" y=\"-134.3\" font-family=\"Helvetica,sans-Serif\" font-size=\"14.00\">value = [0, 0, 35]</text>\n",
       "<text text-anchor=\"start\" x=\"524.5\" y=\"-119.3\" font-family=\"Helvetica,sans-Serif\" font-size=\"14.00\">class = virginica</text>\n",
       "</g>\n",
       "<!-- 8&#45;&gt;12 -->\n",
       "<g id=\"edge12\" class=\"edge\">\n",
       "<title>8&#45;&gt;12</title>\n",
       "<path fill=\"none\" stroke=\"black\" d=\"M472.94,-222.91C490.26,-210.77 509.21,-197.49 526.39,-185.46\"/>\n",
       "<polygon fill=\"black\" stroke=\"black\" points=\"528.48,-188.27 534.66,-179.67 524.46,-182.54 528.48,-188.27\"/>\n",
       "</g>\n",
       "<!-- 10 -->\n",
       "<g id=\"node11\" class=\"node\">\n",
       "<title>10</title>\n",
       "<path fill=\"#8139e5\" stroke=\"black\" d=\"M462.5,-68C462.5,-68 355.5,-68 355.5,-68 349.5,-68 343.5,-62 343.5,-56 343.5,-56 343.5,-12 343.5,-12 343.5,-6 349.5,0 355.5,0 355.5,0 462.5,0 462.5,0 468.5,0 474.5,-6 474.5,-12 474.5,-12 474.5,-56 474.5,-56 474.5,-62 468.5,-68 462.5,-68\"/>\n",
       "<text text-anchor=\"start\" x=\"360.5\" y=\"-52.8\" font-family=\"Helvetica,sans-Serif\" font-size=\"14.00\">entropy = 0.0</text>\n",
       "<text text-anchor=\"start\" x=\"365\" y=\"-37.8\" font-family=\"Helvetica,sans-Serif\" font-size=\"14.00\">samples = 3</text>\n",
       "<text text-anchor=\"start\" x=\"351.5\" y=\"-22.8\" font-family=\"Helvetica,sans-Serif\" font-size=\"14.00\">value = [0, 0, 3]</text>\n",
       "<text text-anchor=\"start\" x=\"351.5\" y=\"-7.8\" font-family=\"Helvetica,sans-Serif\" font-size=\"14.00\">class = virginica</text>\n",
       "</g>\n",
       "<!-- 9&#45;&gt;10 -->\n",
       "<g id=\"edge10\" class=\"edge\">\n",
       "<title>9&#45;&gt;10</title>\n",
       "<path fill=\"none\" stroke=\"black\" d=\"M412.77,-103.73C412.32,-95.52 411.84,-86.86 411.39,-78.56\"/>\n",
       "<polygon fill=\"black\" stroke=\"black\" points=\"414.87,-78.09 410.82,-68.3 407.88,-78.48 414.87,-78.09\"/>\n",
       "</g>\n",
       "<!-- 11 -->\n",
       "<g id=\"node12\" class=\"node\">\n",
       "<title>11</title>\n",
       "<path fill=\"#39e581\" stroke=\"black\" d=\"M621,-68C621,-68 505,-68 505,-68 499,-68 493,-62 493,-56 493,-56 493,-12 493,-12 493,-6 499,0 505,0 505,0 621,0 621,0 627,0 633,-6 633,-12 633,-12 633,-56 633,-56 633,-62 627,-68 621,-68\"/>\n",
       "<text text-anchor=\"start\" x=\"514.5\" y=\"-52.8\" font-family=\"Helvetica,sans-Serif\" font-size=\"14.00\">entropy = 0.0</text>\n",
       "<text text-anchor=\"start\" x=\"519\" y=\"-37.8\" font-family=\"Helvetica,sans-Serif\" font-size=\"14.00\">samples = 1</text>\n",
       "<text text-anchor=\"start\" x=\"505.5\" y=\"-22.8\" font-family=\"Helvetica,sans-Serif\" font-size=\"14.00\">value = [0, 1, 0]</text>\n",
       "<text text-anchor=\"start\" x=\"501\" y=\"-7.8\" font-family=\"Helvetica,sans-Serif\" font-size=\"14.00\">class = versicolor</text>\n",
       "</g>\n",
       "<!-- 9&#45;&gt;11 -->\n",
       "<g id=\"edge11\" class=\"edge\">\n",
       "<title>9&#45;&gt;11</title>\n",
       "<path fill=\"none\" stroke=\"black\" d=\"M470.11,-103.73C483.05,-94.15 496.82,-83.96 509.69,-74.44\"/>\n",
       "<polygon fill=\"black\" stroke=\"black\" points=\"512.04,-77.06 517.99,-68.3 507.87,-71.43 512.04,-77.06\"/>\n",
       "</g>\n",
       "</g>\n",
       "</svg>\n"
      ],
      "text/plain": [
       "<graphviz.sources.Source at 0x7f8098719c10>"
      ]
     },
     "execution_count": 14,
     "metadata": {},
     "output_type": "execute_result"
    }
   ],
   "source": [
    "graph = graphviz.Source(g_tree)\n",
    "graph"
   ]
  },
  {
   "cell_type": "code",
   "execution_count": 15,
   "id": "0e2e87e9",
   "metadata": {},
   "outputs": [
    {
     "name": "stdout",
     "output_type": "stream",
     "text": [
      "['virginica' 'versicolor' 'setosa' 'virginica' 'setosa' 'virginica'\n",
      " 'setosa' 'virginica' 'virginica' 'versicolor' 'virginica' 'versicolor'\n",
      " 'virginica' 'virginica' 'virginica' 'setosa' 'versicolor' 'versicolor'\n",
      " 'setosa' 'setosa' 'virginica' 'versicolor' 'setosa' 'setosa' 'virginica'\n",
      " 'setosa' 'setosa' 'versicolor' 'versicolor' 'setosa' 'virginica'\n",
      " 'versicolor' 'setosa' 'virginica' 'virginica' 'versicolor' 'setosa'\n",
      " 'virginica']\n"
     ]
    }
   ],
   "source": [
    "y_pred= classifier.predict(x_test)\n",
    "print(y_pred)"
   ]
  },
  {
   "cell_type": "markdown",
   "id": "c5ceda37",
   "metadata": {},
   "source": [
    "## Confusion Matrix"
   ]
  },
  {
   "cell_type": "code",
   "execution_count": 16,
   "id": "176c972d",
   "metadata": {},
   "outputs": [
    {
     "name": "stdout",
     "output_type": "stream",
     "text": [
      "[[13  0  0]\n",
      " [ 0 10  6]\n",
      " [ 0  0  9]]\n"
     ]
    }
   ],
   "source": [
    "from sklearn.metrics import confusion_matrix\n",
    "cm= confusion_matrix (y_test, y_pred,labels=classifier.classes_)\n",
    "print(cm)"
   ]
  },
  {
   "cell_type": "markdown",
   "id": "beeb2df6",
   "metadata": {},
   "source": [
    "### CM Display"
   ]
  },
  {
   "cell_type": "code",
   "execution_count": 17,
   "id": "9f7e74a4",
   "metadata": {},
   "outputs": [
    {
     "data": {
      "text/plain": [
       "<sklearn.metrics._plot.confusion_matrix.ConfusionMatrixDisplay at 0x7f8098719a60>"
      ]
     },
     "execution_count": 17,
     "metadata": {},
     "output_type": "execute_result"
    },
    {
     "data": {
      "image/png": "[encoded data removed]",
      "text/plain": [
       "<Figure size 432x288 with 2 Axes>"
      ]
     },
     "metadata": {
      "needs_background": "light"
     },
     "output_type": "display_data"
    }
   ],
   "source": [
    "from sklearn.metrics import ConfusionMatrixDisplay\n",
    "disp = ConfusionMatrixDisplay(confusion_matrix=cm,\n",
    "display_labels=classifier.classes_)\n",
    "disp.plot()"
   ]
  },
  {
   "cell_type": "markdown",
   "id": "00d75bab",
   "metadata": {},
   "source": [
    "## Accuracy\n"
   ]
  },
  {
   "cell_type": "markdown",
   "id": "d988535f",
   "metadata": {},
   "source": [
    "### Test"
   ]
  },
  {
   "cell_type": "code",
   "execution_count": 19,
   "id": "6e6c0bf6",
   "metadata": {},
   "outputs": [
    {
     "name": "stdout",
     "output_type": "stream",
     "text": [
      "Test accuracy score with criterion entropy: 0.8421\n"
     ]
    }
   ],
   "source": [
    "from sklearn.metrics import accuracy_score\n",
    "print('Test accuracy score with criterion entropy: {0:0.4f}'.format(accuracy_score(y_test,y_pred)))"
   ]
  },
  {
   "cell_type": "markdown",
   "id": "30f144aa",
   "metadata": {},
   "source": [
    "### Train"
   ]
  },
  {
   "cell_type": "code",
   "execution_count": 20,
   "id": "3d903be9",
   "metadata": {},
   "outputs": [
    {
     "name": "stdout",
     "output_type": "stream",
     "text": [
      "Training-set accuracy score: 1.0000\n"
     ]
    }
   ],
   "source": [
    "y_pred_train= classifier.predict(x_train)\n",
    "print('Training-set accuracy score: {0:0.4f}'. format(accuracy_score(y_train,y_pred_train)))"
   ]
  }
 ],
 "metadata": {
  "kernelspec": {
   "display_name": "Python 3 (ipykernel)",
   "language": "python",
   "name": "python3"
  },
  "language_info": {
   "codemirror_mode": {
    "name": "ipython",
    "version": 3
   },
   "file_extension": ".py",
   "mimetype": "text/x-python",
   "name": "python",
   "nbconvert_exporter": "python",
   "pygments_lexer": "ipython3",
   "version": "3.9.12"
  }
 },
 "nbformat": 4,
 "nbformat_minor": 5
}
