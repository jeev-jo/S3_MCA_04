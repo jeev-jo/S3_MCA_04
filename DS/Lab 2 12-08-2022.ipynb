{
 "cells": [
  {
   "cell_type": "markdown",
   "id": "6b09541b",
   "metadata": {},
   "source": [
    "## numpy version and initialisaion"
   ]
  },
  {
   "cell_type": "code",
   "execution_count": 3,
   "id": "5036e549",
   "metadata": {},
   "outputs": [
    {
     "name": "stdout",
     "output_type": "stream",
     "text": [
      "1.21.5\n"
     ]
    }
   ],
   "source": [
    "import numpy\n",
    "import numpy as np\n",
    "print(np.__version__)"
   ]
  },
  {
   "cell_type": "markdown",
   "id": "de17689e",
   "metadata": {},
   "source": [
    "## new array using arange and converting it to integer"
   ]
  },
  {
   "cell_type": "code",
   "execution_count": 3,
   "id": "45c06678",
   "metadata": {},
   "outputs": [
    {
     "name": "stdout",
     "output_type": "stream",
     "text": [
      "[0 0 0 0 0]\n"
     ]
    }
   ],
   "source": [
    "arr=np.zeros(5, dtype=np.int64 )\n",
    "print(arr)"
   ]
  },
  {
   "cell_type": "markdown",
   "id": "5f91a0dc",
   "metadata": {},
   "source": [
    "## array shape"
   ]
  },
  {
   "cell_type": "code",
   "execution_count": 4,
   "id": "bdb00b94",
   "metadata": {},
   "outputs": [
    {
     "name": "stdout",
     "output_type": "stream",
     "text": [
      "[[1 1 1 1]\n",
      " [1 1 1 1]]\n",
      "(2, 4)\n"
     ]
    }
   ],
   "source": [
    "ones_array = np.ones( (2, 4), dtype=np.int64 )  \n",
    "print(ones_array) \n",
    "print(ones_array.shape)"
   ]
  },
  {
   "cell_type": "markdown",
   "id": "1970e3f1",
   "metadata": {},
   "source": [
    "## converting an array from 1D to 2D and D"
   ]
  },
  {
   "cell_type": "code",
   "execution_count": 16,
   "id": "53fc21f2",
   "metadata": {},
   "outputs": [
    {
     "name": "stdout",
     "output_type": "stream",
     "text": [
      "[ 0  1  2  3  4  5  6  7  8  9 10 11]\n",
      "array in 2D is: \n",
      " [[ 0  1  2]\n",
      " [ 3  4  5]\n",
      " [ 6  7  8]\n",
      " [ 9 10 11]]\n",
      "array in 3D is:\n",
      " [[[ 0  1]\n",
      "  [ 2  3]\n",
      "  [ 4  5]]\n",
      "\n",
      " [[ 6  7]\n",
      "  [ 8  9]\n",
      "  [10 11]]]\n"
     ]
    }
   ],
   "source": [
    "array1 = np.arange( 12 )  \n",
    "print(array1)\n",
    "new = array1.reshape(4, 3)shape\n",
    "print(\"array in 2D is: \\n\",new)\n",
    "new1 = array1.reshape(2, 3, 2)\n",
    "print(\"array in 3D is:\\n\",new1)"
   ]
  },
  {
   "cell_type": "markdown",
   "id": "bddb5895",
   "metadata": {},
   "source": [
    "## resizing an array"
   ]
  },
  {
   "cell_type": "code",
   "execution_count": 17,
   "id": "d3fd339d",
   "metadata": {},
   "outputs": [
    {
     "name": "stdout",
     "output_type": "stream",
     "text": [
      "[ 0  1  2  3  4  5  6  7  8  9 10 11]\n",
      "[[ 0  1  2  3]\n",
      " [ 4  5  6  7]\n",
      " [ 8  9 10 11]\n",
      " [ 0  0  0  0]]\n"
     ]
    }
   ],
   "source": [
    "a = np.arange( 12 )  \n",
    "print(a)\n",
    "a.resize(4,4)\n",
    "print(a)"
   ]
  },
  {
   "cell_type": "markdown",
   "id": "fc959cb8",
   "metadata": {},
   "source": [
    "## Slicing"
   ]
  },
  {
   "cell_type": "code",
   "execution_count": 26,
   "id": "2b5d66f7",
   "metadata": {},
   "outputs": [
    {
     "name": "stdout",
     "output_type": "stream",
     "text": [
      "[ 0  1  2  3  4  5  6  7  8  9 10 11 12 13 14]\n",
      "[1 2 3 4]\n",
      "[ 2  3  4  5  6  7  8  9 10 11 12 13 14]\n",
      "[0 1 2 3 4 5 6 7 8 9]\n",
      "[12 13]\n",
      "[0 2 4 6 8]\n",
      "[ 1  2  3  4  5  6  7  8  9 10 11]\n"
     ]
    }
   ],
   "source": [
    "arra = np.arange(15)\n",
    "print(arra)\n",
    "print(arra[1:5])\n",
    "print(arra[2:])\n",
    "print(arra[:10])\n",
    "print(arra[-3:-1])\n",
    "print(arra[0:10:2])\n",
    "print(arra[1:-3])"
   ]
  },
  {
   "cell_type": "markdown",
   "id": "05c77db4",
   "metadata": {},
   "source": [
    "## 1. Write a mumpy program to create an array with values ranging from 1 to 15 and do the following operations.\n",
    "### a) Find size of the array\n",
    "### b) Update its 8th element\n",
    "### c) Reverse the array\n",
    "### d) Convert it into 7 x 2 matrix\n"
   ]
  },
  {
   "cell_type": "code",
   "execution_count": 7,
   "id": "3df01c36",
   "metadata": {},
   "outputs": [
    {
     "name": "stdout",
     "output_type": "stream",
     "text": [
      "[ 1  2  3  4  5  6  7  8  9 10 11 12 13 14 15]\n",
      "size of the array is:  15\n",
      "[ 1  2  3  4  5  6  7 19  9 10 11 12 13 14 15]\n",
      "array in reverse order:   [15 14 13 12 11 10  9 19  7  6  5  4  3  2  1]\n",
      "array after resizing: \n",
      " [[ 1  2]\n",
      " [ 3  4]\n",
      " [ 5  6]\n",
      " [ 7 19]\n",
      " [ 9 10]\n",
      " [11 12]\n",
      " [13 14]]\n"
     ]
    }
   ],
   "source": [
    "ar = np.arange(1,16)\n",
    "print(ar)\n",
    "#a\n",
    "print(\"size of the array is: \",ar.size)\n",
    "#b\n",
    "ar[7]=19\n",
    "print(ar)\n",
    "#cshape\n",
    "print(\"array in reverse order:  \",ar[::-1])\n",
    "#d\n",
    "ar.resize(7,2)\n",
    "print(\"array after resizing: \\n\",ar)"
   ]
  },
  {
   "cell_type": "markdown",
   "id": "f2132470",
   "metadata": {},
   "source": [
    "## 2. Write a numpy program to create a 5 x 4 matrix with values ranging from 12 to 32. Print its shape, type and data type"
   ]
  },
  {
   "cell_type": "code",
   "execution_count": 8,
   "id": "9c44b0bb",
   "metadata": {},
   "outputs": [
    {
     "name": "stdout",
     "output_type": "stream",
     "text": [
      "array is: \n",
      " [[12 13 14 15]\n",
      " [16 17 18 19]\n",
      " [20 21 22 23]\n",
      " [24 25 26 27]\n",
      " [28 29 30 31]]\n",
      "array shape is:  (5, 4)\n",
      "array type is:  <class 'numpy.ndarray'>\n",
      "array data type is:  int64\n"
     ]
    }
   ],
   "source": [
    "a1 = np.arange(12,32)\n",
    "a1.resize(5,4)\n",
    "print(\"array is: \\n\",a1)\n",
    "print(\"array shape is: \",a1.shape)\n",
    "print(\"array type is: \",type(a1))\n",
    "print(\"array data type is: \",a1.dtype)"
   ]
  }
 ],
 "metadata": {
  "kernelspec": {
   "display_name": "Python 3 (ipykernel)",
   "language": "python",
   "name": "python3"
  },
  "language_info": {
   "codemirror_mode": {
    "name": "ipython",
    "version": 3
   },
   "file_extension": ".py",
   "mimetype": "text/x-python",
   "name": "python",
   "nbconvert_exporter": "python",
   "pygments_lexer": "ipython3",
   "version": "3.9.12"
  }
 },
 "nbformat": 4,
 "nbformat_minor": 5
}
