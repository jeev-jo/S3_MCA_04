{
 "cells": [
  {
   "cell_type": "markdown",
   "id": "b3a8914e",
   "metadata": {},
   "source": [
    "# cycle 2"
   ]
  },
  {
   "cell_type": "code",
   "execution_count": 1,
   "id": "59c2422f",
   "metadata": {},
   "outputs": [],
   "source": [
    "import numpy as np"
   ]
  },
  {
   "cell_type": "markdown",
   "id": "60a78ff4",
   "metadata": {},
   "source": [
    "## 3 \n",
    "### 8x8 matrix"
   ]
  },
  {
   "cell_type": "code",
   "execution_count": 3,
   "id": "4ff5f491",
   "metadata": {},
   "outputs": [
    {
     "name": "stdout",
     "output_type": "stream",
     "text": [
      "[[0 1 0 1 0 1 0 1]\n",
      " [1 0 1 0 1 0 1 0]\n",
      " [0 1 0 1 0 1 0 1]\n",
      " [1 0 1 0 1 0 1 0]\n",
      " [0 1 0 1 0 1 0 1]\n",
      " [1 0 1 0 1 0 1 0]\n",
      " [0 1 0 1 0 1 0 1]\n",
      " [1 0 1 0 1 0 1 0]]\n"
     ]
    }
   ],
   "source": [
    "x= np.zeros((8,8), dtype = int)\n",
    "x[1::2,::2] = 1\n",
    "x[::2,1::2] = 1\n",
    "print(x)"
   ]
  },
  {
   "cell_type": "markdown",
   "id": "35c239fd",
   "metadata": {},
   "source": [
    "## 4\n",
    "### 1 D array each element present"
   ]
  },
  {
   "cell_type": "code",
   "execution_count": 4,
   "id": "3d1b10c0",
   "metadata": {},
   "outputs": [
    {
     "name": "stdout",
     "output_type": "stream",
     "text": [
      "[2 3 4 5 6 7]\n",
      "[4 3 7 9]\n",
      "comparison of two array is:\n",
      "[False  True  True False False  True]\n"
     ]
    }
   ],
   "source": [
    "arr1 = np.array([2,3,4,5,6,7])\n",
    "print(arr1)\n",
    "arr2 = np.array([4,3,7,9])\n",
    "print(arr2)\n",
    "print(\"comparison of two array is:\")\n",
    "print(np.in1d(arr1,arr2))"
   ]
  },
  {
   "cell_type": "markdown",
   "id": "be5a8b73",
   "metadata": {},
   "source": [
    "## 5\n",
    "### a. create two arrays\n",
    "### b. common element\n",
    "### c. union"
   ]
  },
  {
   "cell_type": "code",
   "execution_count": 5,
   "id": "d8c21137",
   "metadata": {},
   "outputs": [
    {
     "name": "stdout",
     "output_type": "stream",
     "text": [
      "intersection is:  [1 2 6]\n",
      "union is:  [0 1 2 3 4 5 6 7 9]\n"
     ]
    }
   ],
   "source": [
    "a1 = np.array([0,1,2,4,5,6])\n",
    "a2 = np.array([1,2,3,6,7,9])\n",
    "print(\"intersection is: \",np.intersect1d(a1,a2))\n",
    "print(\"union is: \",np.union1d(a1,a2))"
   ]
  },
  {
   "cell_type": "markdown",
   "id": "7b357f60",
   "metadata": {},
   "source": [
    "## 6\n",
    "### get unique element"
   ]
  },
  {
   "cell_type": "code",
   "execution_count": 7,
   "id": "d81f32bc",
   "metadata": {},
   "outputs": [
    {
     "name": "stdout",
     "output_type": "stream",
     "text": [
      "[1 2 3 4 5 6 7]\n"
     ]
    }
   ],
   "source": [
    "a = np.array([1,1,2,2,3,4,4,5,6,7,7])\n",
    "print(np.unique(a))"
   ]
  },
  {
   "cell_type": "markdown",
   "id": "710e0a51",
   "metadata": {},
   "source": [
    "## 7\n",
    "### convert numpy array to python list"
   ]
  },
  {
   "cell_type": "code",
   "execution_count": 8,
   "id": "8695b6a6",
   "metadata": {},
   "outputs": [
    {
     "name": "stdout",
     "output_type": "stream",
     "text": [
      "array is:  [1 2 3 4]\n",
      "<class 'numpy.ndarray'>\n",
      "list is:  [1, 2, 3, 4]\n",
      "<class 'list'>\n"
     ]
    }
   ],
   "source": [
    "arr = np.array([1,2,3,4])\n",
    "print(\"array is: \",arr)\n",
    "print(type(arr))\n",
    "list = arr.tolist()\n",
    "print(\"list is: \",list)\n",
    "print(type(list))"
   ]
  },
  {
   "cell_type": "code",
   "execution_count": 49,
   "id": "1339dbea",
   "metadata": {
    "scrolled": true
   },
   "outputs": [
    {
     "name": "stdout",
     "output_type": "stream",
     "text": [
      "[[1 1 0 0 1 1 0 0]\n",
      " [0 0 1 1 0 0 1 1]\n",
      " [1 1 0 0 1 1 0 0]\n",
      " [0 0 1 1 0 0 1 1]\n",
      " [1 1 0 0 1 1 0 0]\n",
      " [0 0 1 1 0 0 1 1]\n",
      " [1 1 0 0 1 1 0 0]\n",
      " [0 0 1 1 0 0 1 1]]\n"
     ]
    }
   ],
   "source": [
    "y= np.zeros((8,8), dtype = int)\n",
    "y[0::2,:2:1]=1\n",
    "y[0::2,4:6:1]=1\n",
    "y[1::2,2:4:1]=1\n",
    "y[1::2,6:8:1]=1\n",
    "print(y)"
   ]
  },
  {
   "cell_type": "code",
   "execution_count": 50,
   "id": "3b2ae2d7",
   "metadata": {},
   "outputs": [
    {
     "name": "stdout",
     "output_type": "stream",
     "text": [
      "[[0 0 0 0 1 1 1 1]\n",
      " [1 1 1 1 0 0 0 0]\n",
      " [0 0 0 0 1 1 1 1]\n",
      " [1 1 1 1 0 0 0 0]\n",
      " [0 0 0 0 1 1 1 1]\n",
      " [1 1 1 1 0 0 0 0]\n",
      " [0 0 0 0 1 1 1 1]\n",
      " [1 1 1 1 0 0 0 0]]\n"
     ]
    }
   ],
   "source": [
    "z=np.zeros((8,8),dtype=int)\n",
    "z[0::2,4::1]=1\n",
    "z[1::2,0:4:1]=1\n",
    "print(z)"
   ]
  },
  {
   "cell_type": "markdown",
   "id": "dbafd5fe",
   "metadata": {},
   "source": [
    "## 8\n",
    "### Write a numpy program to access array by column"
   ]
  },
  {
   "cell_type": "code",
   "execution_count": 56,
   "id": "9cc545e9",
   "metadata": {},
   "outputs": [
    {
     "name": "stdout",
     "output_type": "stream",
     "text": [
      "[[ 1  2  3]\n",
      " [ 4  8 11]\n",
      " [30  5  9]]\n",
      "accessing 3rd column: \n",
      "[ 3 11  9]\n",
      "accessing 2nd column: \n",
      "[2 8 5]\n",
      "accessing 1st column: \n",
      "[ 1  4 30]\n"
     ]
    }
   ],
   "source": [
    "array = np.array([[1,2,3],[4,8,11],[30,5,9]])\n",
    "print(array)\n",
    "print(\"accessing 3rd column: \")\n",
    "print(array[:, 2])\n",
    "print(\"accessing 2nd column: \")\n",
    "print(array[:, 1])\n",
    "print(\"accessing 1st column: \")\n",
    "print(array[:, 0])"
   ]
  },
  {
   "cell_type": "markdown",
   "id": "d1578ea4",
   "metadata": {},
   "source": [
    "## 9 \n",
    "## Write a numpy program to compute\n",
    "   ### a)  multiplication of two given matrices.\n",
    "   ### b)  addition of two matrices\n"
   ]
  },
  {
   "cell_type": "code",
   "execution_count": null,
   "id": "ca73e592",
   "metadata": {},
   "outputs": [],
   "source": []
  }
 ],
 "metadata": {
  "kernelspec": {
   "display_name": "Python 3 (ipykernel)",
   "language": "python",
   "name": "python3"
  },
  "language_info": {
   "codemirror_mode": {
    "name": "ipython",
    "version": 3
   },
   "file_extension": ".py",
   "mimetype": "text/x-python",
   "name": "python",
   "nbconvert_exporter": "python",
   "pygments_lexer": "ipython3",
   "version": "3.9.12"
  }
 },
 "nbformat": 4,
 "nbformat_minor": 5
}
