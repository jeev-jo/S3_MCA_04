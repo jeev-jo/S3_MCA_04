{
 "cells": [
  {
   "cell_type": "code",
   "execution_count": 2,
   "id": "b620637a",
   "metadata": {},
   "outputs": [],
   "source": [
    "import numpy as np\n",
    "import pandas as pd"
   ]
  },
  {
   "cell_type": "markdown",
   "id": "38522766",
   "metadata": {},
   "source": [
    "## 5.\n",
    "### Write a pandas program to create a dataframe(6 records) which has the fields id,name,age,degree,cgpa\n",
    "#### a)insert a new column ‘class’ into the dataframe and populate values\n",
    "#### b)Find out total no.of columns in the dataframe\n",
    "#### c)select top 3 rows ,last 4 rows\n",
    "#### d)delete all rows which have null values\n",
    "#### e)drop ‘id’ column\n",
    "#### f)select name,cgpa from 2 to 5 records\n",
    "#### g)fill null values in the age column with mean value\n"
   ]
  },
  {
   "cell_type": "code",
   "execution_count": 24,
   "id": "04058c30",
   "metadata": {
    "scrolled": false
   },
   "outputs": [
    {
     "name": "stdout",
     "output_type": "stream",
     "text": [
      "   id       name   age        degree  cgpa\n",
      "0   1    Shabeeb   NaN       BSc. CS   6.6\n",
      "1   2      Aisha  20.0           BCA   NaN\n",
      "2   3  Aishwarya  18.0       BSc. CS   7.5\n",
      "3   4     Akhina  21.0       BSc. CS   8.9\n",
      "4   5     Amrita  24.0  BSc. Physics   8.5\n",
      "5   6        Anu  23.0           BCA   NaN\n",
      "\n",
      "    id       name   age        degree  cgpa  class\n",
      "0   1    Shabeeb   NaN       BSc. CS   6.6  MCA 1\n",
      "1   2      Aisha  20.0           BCA   NaN  MCA 2\n",
      "2   3  Aishwarya  18.0       BSc. CS   7.5  MCA 3\n",
      "3   4     Akhina  21.0       BSc. CS   8.9  MCA 3\n",
      "4   5     Amrita  24.0  BSc. Physics   8.5  MCA 1\n",
      "5   6        Anu  23.0           BCA   NaN  MCA 2\n",
      "\n",
      " top 3 rows:\n",
      "    id       name   age   degree  cgpa  class\n",
      "0   1    Shabeeb   NaN  BSc. CS   6.6  MCA 1\n",
      "1   2      Aisha  20.0      BCA   NaN  MCA 2\n",
      "2   3  Aishwarya  18.0  BSc. CS   7.5  MCA 3\n",
      "\n",
      " last 4 rows:\n",
      "    id       name   age        degree  cgpa  class\n",
      "2   3  Aishwarya  18.0       BSc. CS   7.5  MCA 3\n",
      "3   4     Akhina  21.0       BSc. CS   8.9  MCA 3\n",
      "4   5     Amrita  24.0  BSc. Physics   8.5  MCA 1\n",
      "5   6        Anu  23.0           BCA   NaN  MCA 2\n",
      "\n",
      " dataframe after deleting null value rows: \n",
      "    id       name   age        degree  cgpa  class\n",
      "2   3  Aishwarya  18.0       BSc. CS   7.5  MCA 3\n",
      "3   4     Akhina  21.0       BSc. CS   8.9  MCA 3\n",
      "4   5     Amrita  24.0  BSc. Physics   8.5  MCA 1\n",
      "\n",
      " df after removing id column:\n",
      "         name   age        degree  cgpa  class\n",
      "2  Aishwarya  18.0       BSc. CS   7.5  MCA 3\n",
      "3     Akhina  21.0       BSc. CS   8.9  MCA 3\n",
      "4     Amrita  24.0  BSc. Physics   8.5  MCA 1\n",
      "\n",
      "         name  cgpa\n",
      "2  Aishwarya   7.5\n",
      "3     Akhina   8.9\n",
      "4     Amrita   8.5\n",
      "5        Anu   NaN\n",
      "\n",
      " df after replacing null value in age with mean:\n",
      "    id       name   age        degree  cgpa  class\n",
      "0   1    Shabeeb  21.2       BSc. CS   6.6  MCA 1\n",
      "1   2      Aisha  20.0           BCA   NaN  MCA 2\n",
      "2   3  Aishwarya  18.0       BSc. CS   7.5  MCA 3\n",
      "3   4     Akhina  21.0       BSc. CS   8.9  MCA 3\n",
      "4   5     Amrita  24.0  BSc. Physics   8.5  MCA 1\n",
      "5   6        Anu  23.0           BCA   NaN  MCA 2\n"
     ]
    }
   ],
   "source": [
    "d = {'id':[1,2,3,4,5,6] , \n",
    "     'name':['Shabeeb','Aisha','Aishwarya','Akhina','Amrita','Anu'], \n",
    "     'age':[np.nan,20,18,21,24,23], \n",
    "     'degree':['BSc. CS','BCA','BSc. CS','BSc. CS','BSc. Physics','BCA'],\n",
    "     'cgpa':[6.6,np.nan,7.5,8.9,8.5,np.nan]\n",
    "    }\n",
    "df = pd.DataFrame(d)\n",
    "print(df)\n",
    "#a\n",
    "cls = ['MCA 1','MCA 2','MCA 3','MCA 3','MCA 1','MCA 2']\n",
    "df['class'] = cls\n",
    "print(\"\\n\",df)\n",
    "#b\n",
    "df1 = df.head(3)\n",
    "print(\"\\n top 3 rows:\\n\",df1)\n",
    "df2 = df.tail(4)\n",
    "print(\"\\n last 4 rows:\\n\",df2)\n",
    "#c\n",
    "df3 = df.dropna()\n",
    "print(\"\\n dataframe after deleting null value rows: \\n\",df3)\n",
    "#d\n",
    "del df3['id']\n",
    "print(\"\\n df after removing id column:\\n\",df3)\n",
    "#f\n",
    "print(\"\\n\",df.iloc[[2,3,4,5],[1,4]])\n",
    "#g\n",
    "df['age'].fillna(value=df['age'].mean(), inplace=True)\n",
    "print(\"\\n df after replacing null value in age with mean:\\n\",df)"
   ]
  },
  {
   "cell_type": "markdown",
   "id": "80e924fc",
   "metadata": {},
   "source": [
    "## 6.\n",
    "#### a)Load iris dataset into a dataframe\n",
    "#### b)Take its descriptive statistics\n",
    "#### c)delete all rows which have null values\n",
    "#### d)select the Species classes,Count the no.of datas in each class\n",
    "#### e)Map the species classes into 1,2 and 3\n",
    "#### f)Print the standard deviation and mean of petal length\n",
    "#### g)select all columns except species\n"
   ]
  },
  {
   "cell_type": "code",
   "execution_count": 38,
   "id": "1042a5b3",
   "metadata": {},
   "outputs": [
    {
     "name": "stdout",
     "output_type": "stream",
     "text": [
      "     sepal_length  sepal_width  petal_length  petal_width    species\n",
      "0             5.1          3.5           1.4          0.2     setosa\n",
      "1             4.9          3.0           1.4          0.2     setosa\n",
      "2             4.7          3.2           1.3          0.2     setosa\n",
      "3             4.6          3.1           1.5          0.2     setosa\n",
      "4             5.0          3.6           1.4          0.2     setosa\n",
      "..            ...          ...           ...          ...        ...\n",
      "145           6.7          3.0           5.2          2.3  virginica\n",
      "146           6.3          2.5           5.0          1.9  virginica\n",
      "147           6.5          3.0           5.2          2.0  virginica\n",
      "148           6.2          3.4           5.4          2.3  virginica\n",
      "149           5.9          3.0           5.1          1.8  virginica\n",
      "\n",
      "[150 rows x 5 columns]\n",
      "<class 'pandas.core.frame.DataFrame'>\n",
      "RangeIndex: 150 entries, 0 to 149\n",
      "Data columns (total 5 columns):\n",
      " #   Column        Non-Null Count  Dtype  \n",
      "---  ------        --------------  -----  \n",
      " 0   sepal_length  150 non-null    float64\n",
      " 1   sepal_width   150 non-null    float64\n",
      " 2   petal_length  150 non-null    float64\n",
      " 3   petal_width   150 non-null    float64\n",
      " 4   species       150 non-null    object \n",
      "dtypes: float64(4), object(1)\n",
      "memory usage: 6.0+ KB\n",
      "None\n",
      "     sepal_length  sepal_width  petal_length  petal_width    species\n",
      "0             5.1          3.5           1.4          0.2     setosa\n",
      "1             4.9          3.0           1.4          0.2     setosa\n",
      "2             4.7          3.2           1.3          0.2     setosa\n",
      "3             4.6          3.1           1.5          0.2     setosa\n",
      "4             5.0          3.6           1.4          0.2     setosa\n",
      "..            ...          ...           ...          ...        ...\n",
      "145           6.7          3.0           5.2          2.3  virginica\n",
      "146           6.3          2.5           5.0          1.9  virginica\n",
      "147           6.5          3.0           5.2          2.0  virginica\n",
      "148           6.2          3.4           5.4          2.3  virginica\n",
      "149           5.9          3.0           5.1          1.8  virginica\n",
      "\n",
      "[150 rows x 5 columns]\n"
     ]
    },
    {
     "ename": "AttributeError",
     "evalue": "'Series' object has no attribute 'value_count'",
     "output_type": "error",
     "traceback": [
      "\u001b[0;31m---------------------------------------------------------------------------\u001b[0m",
      "\u001b[0;31mAttributeError\u001b[0m                            Traceback (most recent call last)",
      "Input \u001b[0;32mIn [38]\u001b[0m, in \u001b[0;36m<cell line: 11>\u001b[0;34m()\u001b[0m\n\u001b[1;32m      9\u001b[0m \u001b[38;5;28mprint\u001b[39m(dp1)\n\u001b[1;32m     10\u001b[0m \u001b[38;5;66;03m#d\u001b[39;00m\n\u001b[0;32m---> 11\u001b[0m \u001b[38;5;28mprint\u001b[39m(\u001b[43mdp1\u001b[49m\u001b[43m[\u001b[49m\u001b[38;5;124;43m'\u001b[39;49m\u001b[38;5;124;43mspecies\u001b[39;49m\u001b[38;5;124;43m'\u001b[39;49m\u001b[43m]\u001b[49m\u001b[38;5;241;43m.\u001b[39;49m\u001b[43mvalue_count\u001b[49m())\n\u001b[1;32m     12\u001b[0m \u001b[38;5;66;03m#e\u001b[39;00m\n\u001b[1;32m     13\u001b[0m dp1[\u001b[38;5;124m'\u001b[39m\u001b[38;5;124mspecies\u001b[39m\u001b[38;5;124m'\u001b[39m] \u001b[38;5;241m=\u001b[39m dp1[\u001b[38;5;124m'\u001b[39m\u001b[38;5;124mspecies\u001b[39m\u001b[38;5;124m'\u001b[39m]\u001b[38;5;241m.\u001b[39mmap({\u001b[38;5;124m'\u001b[39m\u001b[38;5;124msetosa\u001b[39m\u001b[38;5;124m'\u001b[39m:\u001b[38;5;241m1\u001b[39m,\u001b[38;5;124m'\u001b[39m\u001b[38;5;124mversico\u001b[39m\u001b[38;5;124m'\u001b[39m:\u001b[38;5;241m2\u001b[39m,\u001b[38;5;124m'\u001b[39m\u001b[38;5;124mvirginica\u001b[39m\u001b[38;5;124m'\u001b[39m:\u001b[38;5;241m3\u001b[39m})\n",
      "File \u001b[0;32m/opt/anaconda3/lib/python3.9/site-packages/pandas/core/generic.py:5575\u001b[0m, in \u001b[0;36mNDFrame.__getattr__\u001b[0;34m(self, name)\u001b[0m\n\u001b[1;32m   5568\u001b[0m \u001b[38;5;28;01mif\u001b[39;00m (\n\u001b[1;32m   5569\u001b[0m     name \u001b[38;5;129;01mnot\u001b[39;00m \u001b[38;5;129;01min\u001b[39;00m \u001b[38;5;28mself\u001b[39m\u001b[38;5;241m.\u001b[39m_internal_names_set\n\u001b[1;32m   5570\u001b[0m     \u001b[38;5;129;01mand\u001b[39;00m name \u001b[38;5;129;01mnot\u001b[39;00m \u001b[38;5;129;01min\u001b[39;00m \u001b[38;5;28mself\u001b[39m\u001b[38;5;241m.\u001b[39m_metadata\n\u001b[1;32m   5571\u001b[0m     \u001b[38;5;129;01mand\u001b[39;00m name \u001b[38;5;129;01mnot\u001b[39;00m \u001b[38;5;129;01min\u001b[39;00m \u001b[38;5;28mself\u001b[39m\u001b[38;5;241m.\u001b[39m_accessors\n\u001b[1;32m   5572\u001b[0m     \u001b[38;5;129;01mand\u001b[39;00m \u001b[38;5;28mself\u001b[39m\u001b[38;5;241m.\u001b[39m_info_axis\u001b[38;5;241m.\u001b[39m_can_hold_identifiers_and_holds_name(name)\n\u001b[1;32m   5573\u001b[0m ):\n\u001b[1;32m   5574\u001b[0m     \u001b[38;5;28;01mreturn\u001b[39;00m \u001b[38;5;28mself\u001b[39m[name]\n\u001b[0;32m-> 5575\u001b[0m \u001b[38;5;28;01mreturn\u001b[39;00m \u001b[38;5;28;43mobject\u001b[39;49m\u001b[38;5;241;43m.\u001b[39;49m\u001b[38;5;21;43m__getattribute__\u001b[39;49m\u001b[43m(\u001b[49m\u001b[38;5;28;43mself\u001b[39;49m\u001b[43m,\u001b[49m\u001b[43m \u001b[49m\u001b[43mname\u001b[49m\u001b[43m)\u001b[49m\n",
      "\u001b[0;31mAttributeError\u001b[0m: 'Series' object has no attribute 'value_count'"
     ]
    }
   ],
   "source": [
    "#a\n",
    "i = pd.read_csv('iris.csv')\n",
    "dp = pd.DataFrame(i)\n",
    "print(dp)\n",
    "#b\n",
    "print(dp.info())\n",
    "#c\n",
    "dp1 = dp.dropna()\n",
    "print(dp1)\n",
    "#d\n",
    "\n",
    "#e\n",
    "dp1['species'] = dp1['species'].map({'setosa':1,'versico':2,'virginica':3})\n",
    "print(dp1)\n",
    "#f\n",
    "print(\"\\n standard deviation of petal length:\\n\",dp1['petal_length'].std())\n",
    "print(\"\\n mean of petal length:\\n\",dp1['petal_length'].mean())\n",
    "#g\n"
   ]
  }
 ],
 "metadata": {
  "kernelspec": {
   "display_name": "Python 3 (ipykernel)",
   "language": "python",
   "name": "python3"
  },
  "language_info": {
   "codemirror_mode": {
    "name": "ipython",
    "version": 3
   },
   "file_extension": ".py",
   "mimetype": "text/x-python",
   "name": "python",
   "nbconvert_exporter": "python",
   "pygments_lexer": "ipython3",
   "version": "3.9.12"
  }
 },
 "nbformat": 4,
 "nbformat_minor": 5
}
