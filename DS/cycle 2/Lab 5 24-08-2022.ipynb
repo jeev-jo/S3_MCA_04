{
 "cells": [
  {
   "cell_type": "code",
   "execution_count": 21,
   "id": "78bab6bc",
   "metadata": {},
   "outputs": [],
   "source": [
    "import pandas as pd\n",
    "import numpy as np"
   ]
  },
  {
   "cell_type": "markdown",
   "id": "24eb08e5",
   "metadata": {},
   "source": [
    "# 1. \n",
    "### Write a Pandas program to create and display a one-dimensional array like object containing an array of data"
   ]
  },
  {
   "cell_type": "code",
   "execution_count": 5,
   "id": "a83639aa",
   "metadata": {},
   "outputs": [
    {
     "name": "stdout",
     "output_type": "stream",
     "text": [
      "0    1\n",
      "1    2\n",
      "2    3\n",
      "dtype: int64\n"
     ]
    }
   ],
   "source": [
    "arr = [1,2,3]\n",
    "a = pd.Series(arr)\n",
    "print(a)"
   ]
  },
  {
   "cell_type": "code",
   "execution_count": 4,
   "id": "3dbe9b28",
   "metadata": {},
   "outputs": [
    {
     "name": "stdout",
     "output_type": "stream",
     "text": [
      "x    11\n",
      "y    10\n",
      "z     8\n",
      "dtype: int64\n"
     ]
    }
   ],
   "source": [
    "ar = [11,10,8]\n",
    "b = pd.Series(ar, index = [\"x\",\"y\",\"z\"])\n",
    "print(b)"
   ]
  },
  {
   "cell_type": "markdown",
   "id": "228f11a7",
   "metadata": {},
   "source": [
    "## 2.\n",
    "### Write a Pandas program to add, subtract, multiply and divide two Pandas Series"
   ]
  },
  {
   "cell_type": "code",
   "execution_count": 13,
   "id": "fbc28f7c",
   "metadata": {},
   "outputs": [
    {
     "name": "stdout",
     "output_type": "stream",
     "text": [
      "0     2\n",
      "1     4\n",
      "2     8\n",
      "3    16\n",
      "dtype: int64\n",
      "0     3\n",
      "1     6\n",
      "2     9\n",
      "3    12\n",
      "dtype: int64\n",
      "sum is:\n",
      " 0     5\n",
      "1    10\n",
      "2    17\n",
      "3    28\n",
      "dtype: int64\n",
      "difference is:\n",
      " 0   -1\n",
      "1   -2\n",
      "2   -1\n",
      "3    4\n",
      "dtype: int64\n",
      "product is:\n",
      " 0      6\n",
      "1     24\n",
      "2     72\n",
      "3    192\n",
      "dtype: int64\n",
      "division is:\n",
      " 0    0.666667\n",
      "1    0.666667\n",
      "2    0.888889\n",
      "3    1.333333\n",
      "dtype: float64\n"
     ]
    }
   ],
   "source": [
    "c = pd.Series([2,4,8,16])\n",
    "d = pd.Series([3,6,9,12])\n",
    "print(c)\n",
    "print(d)\n",
    "print(\"sum is:\\n\",c+d)\n",
    "print(\"difference is:\\n\",c-d)\n",
    "print(\"product is:\\n\",c*d)\n",
    "print(\"division is:\\n\",c/d)"
   ]
  },
  {
   "cell_type": "markdown",
   "id": "ef69de73",
   "metadata": {},
   "source": [
    "## 3.\n",
    "### write a panda program to create a single dataframe and save it as a csv file\n"
   ]
  },
  {
   "cell_type": "code",
   "execution_count": 36,
   "id": "91a243d0",
   "metadata": {},
   "outputs": [
    {
     "name": "stdout",
     "output_type": "stream",
     "text": [
      "   calories  duration\n",
      "0       420        50\n",
      "1       380        40\n",
      "2       390        45\n",
      "   calories  duration\n",
      "0       420        50\n",
      "1       380        40\n",
      "2       390        45\n"
     ]
    }
   ],
   "source": [
    "d = { \"calories\": [420, 380, 390],  \"duration\": [50, 40, 45]}\n",
    "df1 = pd.DataFrame(d)\n",
    "print(df1)\n",
    "df1.to_csv('data.csv', index=False)\n",
    "dp1 = pd.read_csv('data.csv')\n",
    "print(dp1)"
   ]
  },
  {
   "cell_type": "code",
   "execution_count": 32,
   "id": "f7d8ce73",
   "metadata": {},
   "outputs": [
    {
     "name": "stdout",
     "output_type": "stream",
     "text": [
      "     name  score  attempts qualify\n",
      "0    Appu   75.0         1     yes\n",
      "1    Ammu   89.0         3     yes\n",
      "2    Achu    NaN         2      no\n",
      "3  Kuttan   50.0         1     yes\n",
      "4   Pachu    NaN         4      no\n",
      "5   Pathu   41.0         3     yes\n",
      "6   Kichu   38.0         1      no\n",
      "7    Nick    NaN         1      no\n",
      "8    Nani   99.0         2     yes\n",
      "9   Minnu   59.0         3     yes\n",
      "<class 'pandas.core.frame.DataFrame'>\n",
      "RangeIndex: 10 entries, 0 to 9\n",
      "Data columns (total 4 columns):\n",
      " #   Column    Non-Null Count  Dtype  \n",
      "---  ------    --------------  -----  \n",
      " 0   name      10 non-null     object \n",
      " 1   score     7 non-null      float64\n",
      " 2   attempts  10 non-null     int64  \n",
      " 3   qualify   10 non-null     object \n",
      "dtypes: float64(1), int64(1), object(2)\n",
      "memory usage: 448.0+ bytes\n",
      "None\n",
      "total rows:  10\n",
      "total colum is:  4\n",
      "    name  score  attempts qualify\n",
      "2   Achu    NaN         2      no\n",
      "4  Pachu    NaN         4      no\n",
      "7   Nick    NaN         1      no\n",
      "\n",
      "Calling first object\n",
      " name        Appu\n",
      "score       75.0\n",
      "attempts       1\n",
      "qualify      yes\n",
      "Name: 0, dtype: object\n"
     ]
    }
   ],
   "source": [
    "data = {'name': [\"Appu\",\"Ammu\",\"Achu\",\"Kuttan\",\"Pachu\",\"Pathu\",\"Kichu\",\"Nick\",\"Nani\",\"Minnu\"] ,\n",
    "        'score': [75,89,np.nan,50,np.nan,41,38,np.nan,99,59],\n",
    "        'attempts': [1, 3, 2, 1, 4, 3, 1, 1, 2, 3],\n",
    "        'qualify': ['yes', 'yes', 'no', 'yes', 'no', 'yes', 'no', 'no', 'yes', 'yes']}\n",
    "df = pd.DataFrame(data)\n",
    "print(df)\n",
    "print(df.info())\n",
    "print(\"total rows: \",len(df.axes[0]))\n",
    "print(\"total colum is: \",len(df.axes[1]))\n",
    "print(df[df['score'].isnull()])\n",
    "print(\"\\nCalling first object\\n\",df.loc[0])"
   ]
  },
  {
   "cell_type": "code",
   "execution_count": 34,
   "id": "d04d79ff",
   "metadata": {},
   "outputs": [
    {
     "name": "stdout",
     "output_type": "stream",
     "text": [
      "     name  score  attempts qualify\n",
      "0    Appu   75.0         1     yes\n",
      "1    Ammu   89.0         3     yes\n",
      "2    Achu    NaN         2      no\n",
      "3  Kuttan   50.0         1     yes\n",
      "4   Pachu    NaN         4      no\n",
      "5   Pathu   41.0         3     yes\n",
      "6   Kichu   38.0         1      no\n",
      "7    Nick    NaN         1      no\n",
      "8    Nani   99.0         2     yes\n",
      "9   Minnu   59.0         3     yes\n"
     ]
    }
   ],
   "source": [
    "data = {'name': [\"Appu\",\"Ammu\",\"Achu\",\"Kuttan\",\"Pachu\",\"Pathu\",\"Kichu\",\"Nick\",\"Nani\",\"Minnu\"] ,\n",
    "        'score': [75,89,np.nan,50,np.nan,41,38,np.nan,99,59],\n",
    "        'attempts': [1, 3, 2, 1, 4, 3, 1, 1, 2, 3],\n",
    "        'qualify': ['yes', 'yes', 'no', 'yes', 'no', 'yes', 'no', 'no', 'yes', 'yes']}\n",
    "df = pd.DataFrame(data)\n",
    "df.to_csv('data.csv', index=False)\n",
    "dp = pd.read_csv('data.csv')\n",
    "print(dp)"
   ]
  },
  {
   "cell_type": "markdown",
   "id": "98c7a022",
   "metadata": {},
   "source": [
    "## 4.\n",
    "### Write a Pandas program to create and display a DataFrame from a specified dictionary data(10 records) which has the fields \n",
    "### 1)name \n",
    "### 2)Score \n",
    "### 3)Attempts \n",
    "### 4)Qualify\n",
    "#### a)select the 'name' and ‘qualify’ columns from the following DataFrame\n",
    "#### b)select the rows where the number of attempts in the examination is greater than 2\n",
    "#### c)count the number of rows and columns of the DataFrame\n",
    "#### d)Number of attempts in the examination is less than 2 and score greater than 10\n"
   ]
  },
  {
   "cell_type": "code",
   "execution_count": 65,
   "id": "b3121645",
   "metadata": {},
   "outputs": [
    {
     "name": "stdout",
     "output_type": "stream",
     "text": [
      "     name qualify\n",
      "0    Appu     yes\n",
      "1    Ammu     yes\n",
      "2    Achu      no\n",
      "3  Kuttan     yes\n",
      "4   Pachu      no\n",
      "5   Pathu     yes\n",
      "6   Kichu      no\n",
      "7    Nick      no\n",
      "8    Nani     yes\n",
      "9   Minnu     yes\n",
      "\n",
      "     name  score  attempts qualify\n",
      "1   Ammu   89.0         3     yes\n",
      "4  Pachu    NaN         4      no\n",
      "5  Pathu   41.0         3     yes\n",
      "9  Minnu   59.0         3     yes\n",
      "\n",
      "total rows:  10\n",
      "total colum is:  4\n",
      "     name  score  attempts qualify\n",
      "0    Appu   75.0         1     yes\n",
      "3  Kuttan   50.0         1     yes\n",
      "6   Kichu   38.0         1      no\n"
     ]
    }
   ],
   "source": [
    "data = {'name': [\"Appu\",\"Ammu\",\"Achu\",\"Kuttan\",\"Pachu\",\"Pathu\",\"Kichu\",\"Nick\",\"Nani\",\"Minnu\"] ,\n",
    "        'score': [75,89,np.nan,50,np.nan,41,38,np.nan,99,59],\n",
    "        'attempts': [1, 3, 2, 1, 4, 3, 1, 1, 2, 3],\n",
    "        'qualify': ['yes', 'yes', 'no', 'yes', 'no', 'yes', 'no', 'no', 'yes', 'yes']}\n",
    "df = pd.DataFrame(data)\n",
    "# a\n",
    "print(df[['name','qualify']])\n",
    "# b\n",
    "print(\"\\n\",df[df['attempts']>2])\n",
    "# c\n",
    "print(\"\\ntotal rows: \",len(df.axes[0]))\n",
    "print(\"total colum is: \",len(df.axes[1]))\n",
    "# d\n",
    "print(df[(df['attempts'] < 2) & (df['score'] > 10)])"
   ]
  }
 ],
 "metadata": {
  "kernelspec": {
   "display_name": "Python 3 (ipykernel)",
   "language": "python",
   "name": "python3"
  },
  "language_info": {
   "codemirror_mode": {
    "name": "ipython",
    "version": 3
   },
   "file_extension": ".py",
   "mimetype": "text/x-python",
   "name": "python",
   "nbconvert_exporter": "python",
   "pygments_lexer": "ipython3",
   "version": "3.9.12"
  }
 },
 "nbformat": 4,
 "nbformat_minor": 5
}
