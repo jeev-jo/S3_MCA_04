{
 "cells": [
  {
   "cell_type": "code",
   "execution_count": 2,
   "id": "7eaa92b7",
   "metadata": {},
   "outputs": [],
   "source": [
    "import numpy as np"
   ]
  },
  {
   "cell_type": "markdown",
   "id": "401389c7",
   "metadata": {},
   "source": [
    "## 8\n",
    "### Write a numpy program to access array by column"
   ]
  },
  {
   "cell_type": "code",
   "execution_count": 3,
   "id": "2d8747a9",
   "metadata": {},
   "outputs": [
    {
     "name": "stdout",
     "output_type": "stream",
     "text": [
      "[[ 1  2  3]\n",
      " [ 4  8 11]\n",
      " [30  5  9]]\n",
      "accessing 3rd column: \n",
      "[ 3 11  9]\n",
      "accessing 2nd column: \n",
      "[2 8 5]\n",
      "accessing 1st column: \n",
      "[ 1  4 30]\n"
     ]
    }
   ],
   "source": [
    "array = np.array([[1,2,3],[4,8,11],[30,5,9]])\n",
    "print(array)\n",
    "print(\"accessing 3rd column: \")\n",
    "print(array[:, 2])\n",
    "print(\"accessing 2nd column: \")\n",
    "print(array[:, 1])\n",
    "print(\"accessing 1st column: \")\n",
    "print(array[:, 0])"
   ]
  },
  {
   "cell_type": "markdown",
   "id": "027d51dc",
   "metadata": {},
   "source": [
    "## 9\n",
    "### Write a numpy program to compute\n",
    "   #### a)  multiplication of two given matrices.\n",
    "   #### b)  addition of two matrices\n"
   ]
  },
  {
   "cell_type": "code",
   "execution_count": 4,
   "id": "83341a99",
   "metadata": {},
   "outputs": [
    {
     "name": "stdout",
     "output_type": "stream",
     "text": [
      "multiplication is: \n",
      " [[ 13  18  20]\n",
      " [ 50  68  75]\n",
      " [173 161 140]]\n",
      "Addition is: \n",
      " [[ 6  6  6]\n",
      " [ 5  9 12]\n",
      " [32  9 14]]\n"
     ]
    }
   ],
   "source": [
    "m1 = np.array([[1,2,3],[4,8,11],[30,5,9]])\n",
    "m2 = np.array([[5,4,3],[1,1,1],[2,4,5]])\n",
    "print(\"multiplication is: \\n\",m1@m2)\n",
    "print(\"Addition is: \\n\",m1+m2)"
   ]
  },
  {
   "cell_type": "markdown",
   "id": "097b314a",
   "metadata": {},
   "source": [
    "## 10\n",
    "### Write a numpy program to eigenvalues and eigenvectors of a given matrix"
   ]
  },
  {
   "cell_type": "code",
   "execution_count": 8,
   "id": "3297284f",
   "metadata": {},
   "outputs": [
    {
     "name": "stdout",
     "output_type": "stream",
     "text": [
      "Eigen values:  [4. 1.]\n",
      "Eigen vectors: \n",
      " [[ 0.70710678 -0.4472136 ]\n",
      " [ 0.70710678  0.89442719]]\n"
     ]
    }
   ],
   "source": [
    "m = np.array([[3,1],[2,2]])\n",
    "w,v = np.linalg.eig(m)\n",
    "print(\"Eigen values: \",w)\n",
    "print(\"Eigen vectors: \\n\",v)"
   ]
  },
  {
   "cell_type": "markdown",
   "id": "36168f36",
   "metadata": {},
   "source": [
    "## 11\n",
    "### Write a program to find transpose, determinant and inverse of a matrix.\n"
   ]
  },
  {
   "cell_type": "code",
   "execution_count": 12,
   "id": "9ee6fd66",
   "metadata": {},
   "outputs": [
    {
     "name": "stdout",
     "output_type": "stream",
     "text": [
      "determinant is:  156.0\n",
      "transpose is: \n",
      " [[10  4  1]\n",
      " [ 2  8  5]\n",
      " [ 3 11  9]]\n",
      "inverse is: \n",
      " [[ 0.10897436 -0.01923077 -0.01282051]\n",
      " [-0.16025641  0.55769231 -0.62820513]\n",
      " [ 0.07692308 -0.30769231  0.46153846]]\n"
     ]
    }
   ],
   "source": [
    "a = np.array([[10,2,3],[4,8,11],[1,5,9]])\n",
    "print(\"determinant is: \",np.linalg.det(a))\n",
    "print(\"transpose is: \\n\",np.transpose(a))\n",
    "print(\"inverse is: \\n\",np.linalg.inv(a))"
   ]
  },
  {
   "cell_type": "code",
   "execution_count": 13,
   "id": "0cacbc3b",
   "metadata": {},
   "outputs": [
    {
     "name": "stdout",
     "output_type": "stream",
     "text": [
      "[1 2 3 4 5 6 7 8 9]\n",
      "[1. 2. 3. 4. 5. 6. 7. 8. 9.]\n",
      "[1 2 3 4 5 6 7 8 9]\n"
     ]
    }
   ],
   "source": [
    "b = np.arange(1, 10)\n",
    "print(b)\n",
    "np.savetxt('file.txt', b, delimiter=' ')\n",
    "w=np.loadtxt(\"file.txt\")\n",
    "q=np.loadtxt(open(\"file.txt\",\"rb\"),delimiter=\" \",dtype=np.int32)\n",
    "print(w)\n",
    "print(q)"
   ]
  },
  {
   "cell_type": "code",
   "execution_count": 14,
   "id": "da1742c5",
   "metadata": {},
   "outputs": [
    {
     "name": "stdout",
     "output_type": "stream",
     "text": [
      "[[10 20 30]\n",
      " [40 50 60]\n",
      " [70 80 90]]\n"
     ]
    },
    {
     "data": {
      "text/plain": [
       "array([[10., 20., 30.],\n",
       "       [40., 50., 60.],\n",
       "       [70., 80., 90.]])"
      ]
     },
     "execution_count": 14,
     "metadata": {},
     "output_type": "execute_result"
    }
   ],
   "source": [
    "     \n",
    "data = np.array( [[10,20,30], [40,50,60], [70,80,90]] )\n",
    "print(data)\n",
    "np.savetxt(\"test.csv\", data, delimiter=\",\")\n",
    "#k=np.loadtxt(\"test.csv\")\n",
    "#print(k)\n",
    "np.loadtxt(open(\"test.csv\",\"rb\"),delimiter=\",\")\n"
   ]
  }
 ],
 "metadata": {
  "kernelspec": {
   "display_name": "Python 3 (ipykernel)",
   "language": "python",
   "name": "python3"
  },
  "language_info": {
   "codemirror_mode": {
    "name": "ipython",
    "version": 3
   },
   "file_extension": ".py",
   "mimetype": "text/x-python",
   "name": "python",
   "nbconvert_exporter": "python",
   "pygments_lexer": "ipython3",
   "version": "3.9.12"
  }
 },
 "nbformat": 4,
 "nbformat_minor": 5
}
