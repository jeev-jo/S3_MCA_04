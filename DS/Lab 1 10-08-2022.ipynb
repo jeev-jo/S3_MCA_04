{
 "cells": [
  {
   "cell_type": "markdown",
   "id": "be85d98f",
   "metadata": {},
   "source": [
    "# Review of Python Programming.\n",
    "## 1. Write a program in python to check whether an input number is prime or not\n",
    "## 2. Write a program in python to remove all occurence of a specifc item from a list.\n",
    "## 3. Write a program in python to count the occurence of a word in a line of text."
   ]
  },
  {
   "cell_type": "code",
   "execution_count": 20,
   "id": "e0e91a4b",
   "metadata": {},
   "outputs": [
    {
     "name": "stdout",
     "output_type": "stream",
     "text": [
      "enter the number: 5\n",
      "the number 5 is prime\n"
     ]
    }
   ],
   "source": [
    "#1\n",
    "n= int(input(\"enter the number: \"))\n",
    "flag = False\n",
    "for i in range(2,n):\n",
    "    if(n % i) == 0:\n",
    "        flag = True\n",
    "        break\n",
    "if(flag == True):\n",
    "    print(\"the number\",n,\"is not prime\")\n",
    "else:\n",
    "    print(\"the number\",n,\"is prime\")\n",
    "        "
   ]
  },
  {
   "cell_type": "code",
   "execution_count": 21,
   "id": "1f46619f",
   "metadata": {},
   "outputs": [
    {
     "name": "stdout",
     "output_type": "stream",
     "text": [
      "[1, 2, 3, 4, 5, 6, 11, 1, 14, 3, 4, 12, 9]\n",
      "enter the element want to delete: 12\n",
      "list after removal is [1, 2, 3, 4, 5, 6, 11, 1, 14, 3, 4, 9]\n"
     ]
    }
   ],
   "source": [
    "#2\n",
    "list=[1,2,3,4,5,6,11,1,14,3,4,12,9]\n",
    "print(list)\n",
    "n= int(input(\"enter the element want to delete: \"))\n",
    "for i in list:\n",
    "    if(i == n):\n",
    "        list.remove(n)\n",
    "print(\"list after removal is\",list)"
   ]
  },
  {
   "cell_type": "code",
   "execution_count": 1,
   "id": "d1eeae62",
   "metadata": {},
   "outputs": [
    {
     "name": "stdout",
     "output_type": "stream",
     "text": [
      "enter the text:  Coursera hero_image New! Create apps for Android and iOS using React Native Learn how to create cross-platform mobile applications in the new React Native Specialization, taught by engineering experts at Meta. React is the preeminent framework used by popular mobile apps like Instagram, Pinterest, UberEats, Words with Friends, and more.\n",
      "enter the word to count: the\n",
      "the number of occurence of word the in the given text is 2\n"
     ]
    }
   ],
   "source": [
    "t= input(\"enter the text: \")\n",
    "text = t.split(\" \")\n",
    "word= input(\"enter the word to count: \")\n",
    "count=text.count(word)\n",
    "print(\"the number of occurence of word\",word,\"in the given text is\",count)"
   ]
  },
  {
   "cell_type": "markdown",
   "id": "1fd2d09a",
   "metadata": {},
   "source": [
    "pip install numpy\n",
    "import numpy\n",
    "import numpy as np\n"
   ]
  },
  {
   "cell_type": "code",
   "execution_count": 3,
   "id": "5d075e7c",
   "metadata": {},
   "outputs": [],
   "source": [
    "import numpy\n",
    "import numpy as np"
   ]
  },
  {
   "cell_type": "code",
   "execution_count": 9,
   "id": "648e5670",
   "metadata": {},
   "outputs": [
    {
     "name": "stdout",
     "output_type": "stream",
     "text": [
      "[ 1  2  3  4  5  6  7  8  9 10 11 12 13 14 15]\n",
      "size of the array is:  15\n"
     ]
    },
    {
     "ename": "ValueError",
     "evalue": "cannot reshape array of size 15 into shape (7,2)",
     "output_type": "error",
     "traceback": [
      "\u001b[0;31m---------------------------------------------------------------------------\u001b[0m",
      "\u001b[0;31mValueError\u001b[0m                                Traceback (most recent call last)",
      "Input \u001b[0;32mIn [9]\u001b[0m, in \u001b[0;36m<cell line: 4>\u001b[0;34m()\u001b[0m\n\u001b[1;32m      2\u001b[0m \u001b[38;5;28mprint\u001b[39m(arr)\n\u001b[1;32m      3\u001b[0m \u001b[38;5;28mprint\u001b[39m(\u001b[38;5;124m\"\u001b[39m\u001b[38;5;124msize of the array is: \u001b[39m\u001b[38;5;124m\"\u001b[39m,arr\u001b[38;5;241m.\u001b[39msize)\n\u001b[0;32m----> 4\u001b[0m newarr \u001b[38;5;241m=\u001b[39m \u001b[43marr\u001b[49m\u001b[38;5;241;43m.\u001b[39;49m\u001b[43mreshape\u001b[49m\u001b[43m(\u001b[49m\u001b[38;5;241;43m7\u001b[39;49m\u001b[43m,\u001b[49m\u001b[38;5;241;43m2\u001b[39;49m\u001b[43m)\u001b[49m\n\u001b[1;32m      5\u001b[0m \u001b[38;5;28mprint\u001b[39m(\u001b[38;5;124m\"\u001b[39m\u001b[38;5;124mreshaped array to 7x2 is: \u001b[39m\u001b[38;5;124m\"\u001b[39m,newarr)\n",
      "\u001b[0;31mValueError\u001b[0m: cannot reshape array of size 15 into shape (7,2)"
     ]
    }
   ],
   "source": [
    "arr = np.arange( 1,16 )  \n",
    "print(arr)\n",
    "print(\"size of the array is: \",arr.size)\n",
    "newarr = arr.reshape(7,2)\n",
    "print(\"reshaped array to 7x2 is: \",newarr)\n"
   ]
  }
 ],
 "metadata": {
  "kernelspec": {
   "display_name": "Python 3 (ipykernel)",
   "language": "python",
   "name": "python3"
  },
  "language_info": {
   "codemirror_mode": {
    "name": "ipython",
    "version": 3
   },
   "file_extension": ".py",
   "mimetype": "text/x-python",
   "name": "python",
   "nbconvert_exporter": "python",
   "pygments_lexer": "ipython3",
   "version": "3.9.12"
  }
 },
 "nbformat": 4,
 "nbformat_minor": 5
}
